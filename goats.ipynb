{
 "cells": [
  {
   "cell_type": "code",
   "execution_count": 2,
   "metadata": {},
   "outputs": [],
   "source": [
    "# NLTK\n",
    "from nltk.tokenize import word_tokenize, sent_tokenize\n",
    "from nltk.sentiment.vader import SentimentIntensityAnalyzer\n",
    "sia = SentimentIntensityAnalyzer()"
   ]
  },
  {
   "cell_type": "code",
   "execution_count": 3,
   "metadata": {},
   "outputs": [],
   "source": [
    "# sklearn libraries\n",
    "from sklearn.feature_selection import SelectKBest\n",
    "from sklearn.feature_selection import chi2\n",
    "from sklearn import svm\n",
    "from sklearn.feature_selection import f_regression\n",
    "from sklearn.model_selection import train_test_split\n",
    "from sklearn.pipeline import Pipeline\n",
    "from sklearn.model_selection import cross_val_score"
   ]
  },
  {
   "cell_type": "code",
   "execution_count": 110,
   "metadata": {},
   "outputs": [],
   "source": [
    "from sklearn import preprocessing\n",
    "from sklearn.pipeline import make_pipeline\n",
    "from sklearn.cluster import KMeans"
   ]
  },
  {
   "cell_type": "code",
   "execution_count": 5,
   "metadata": {},
   "outputs": [],
   "source": [
    "# Misc.\n",
    "import statistics as stat\n",
    "import pandas as pd\n",
    "import numpy as np\n",
    "import string"
   ]
  },
  {
   "cell_type": "code",
   "execution_count": 6,
   "metadata": {},
   "outputs": [],
   "source": [
    "# global variables\n",
    "nums = string.digits\n",
    "punc = string.punctuation"
   ]
  },
  {
   "cell_type": "code",
   "execution_count": 7,
   "metadata": {},
   "outputs": [],
   "source": [
    "def tokens(filename):\n",
    "    tmp_str = ''\n",
    "    \n",
    "    with open(filename) as f:\n",
    "        f_in = f.read()\n",
    "    f.close()\n",
    "    \n",
    "    for line in f_in:\n",
    "        line_str = str(line)\n",
    "        if line_str in nums or line_str in punc:\n",
    "            pass\n",
    "        else:\n",
    "            tmp_str += line_str\n",
    "            \n",
    "    f_prep = tmp_str.replace('\\n','. ').replace('  ','')\n",
    "\n",
    "    f_sent = sent_tokenize(f_prep)\n",
    "    f_sent = [s for s in f_sent if s != '.']\n",
    "    \n",
    "    f_words = word_tokenize(f_prep)\n",
    "    f_words = [s for s in f_words if s != '.']\n",
    "    \n",
    "    return f_sent, f_words  "
   ]
  },
  {
   "cell_type": "code",
   "execution_count": 10,
   "metadata": {},
   "outputs": [],
   "source": [
    "# Sentences and individual words for each album\n",
    "aed_sentence, aed_words = tokens('all-eternals-deck.txt')\n",
    "btc_sentence, btc_words = tokens('beat-the-champ.txt')\n",
    "heretic_sentence, heretic_words = tokens('heretic-pride.txt')\n",
    "gl_sentence, gl_words = tokens('get-lonely.txt')\n",
    "life_sentence, life_words = tokens('tlotwtc.txt')\n",
    "ty_sentence, ty_words = tokens('transcendental-youth.txt')\n",
    "sunset_sentence, sunset_words = tokens('sunset-tree.txt')\n",
    "wsabh_sentence, wsabh_words = tokens('wsabh.txt')\n",
    "talla_sentence, talla_words = tokens('tallahassee.txt')\n",
    "ahwt_sentence, ahwt_words = tokens('ahwt.txt')\n",
    "tcg_sentence, tcg_words = tokens('the-coroners-gambit.txt')\n",
    "ffg_sentence, ffg_words = tokens('full-force-galesburg.txt')\n",
    "nfj_sentence, nfj_words = tokens('nothing-for-juice.txt')\n",
    "sweden_sentence, sweden_words = tokens('sweden.txt')\n",
    "zopilote_sentence, zopilote_words = tokens('zopilote-machine.txt')\n",
    "nfj_sentence, nfj_words = tokens('nothing-for-juice.txt')\n",
    "sweden_sentence, sweden_words = tokens('sweden.txt')\n",
    "zopilote_sentence, zopilote_words = tokens('zopilote-machine.txt')"
   ]
  },
  {
   "cell_type": "code",
   "execution_count": 69,
   "metadata": {},
   "outputs": [],
   "source": [
    "album_lines = [\n",
    "    btc_sentence,\n",
    "          ty_sentence,\n",
    "          aed_sentence,\n",
    "          life_sentence,\n",
    "          heretic_sentence,\n",
    "          gl_sentence,\n",
    "          sunset_sentence,\n",
    "         wsabh_sentence,\n",
    "         talla_sentence,\n",
    "          ahwt_sentence,\n",
    "          tcg_sentence,\n",
    "          ffg_sentence,\n",
    "          nfj_sentence,\n",
    "          sweden_sentence,\n",
    "          zopilote_sentence\n",
    "         ]"
   ]
  },
  {
   "cell_type": "code",
   "execution_count": 61,
   "metadata": {},
   "outputs": [],
   "source": [
    "album_words = [aed_words,\n",
    "          btc_words,\n",
    "          heretic_words,\n",
    "          gl_words,\n",
    "          life_words,\n",
    "          ty_words,\n",
    "          sunset_words,\n",
    "         wsabh_words,\n",
    "         talla_words,\n",
    "          ahwt_words,\n",
    "          tcg_words,\n",
    "          ffg_words,\n",
    "          nfj_words,\n",
    "          sweden_words,\n",
    "          zopilote_words    \n",
    "]"
   ]
  },
  {
   "cell_type": "code",
   "execution_count": 62,
   "metadata": {},
   "outputs": [],
   "source": [
    "album_names = [\n",
    "    'Beat the Champ',\n",
    "    'Transcendental Youth',\n",
    "    'All Eternals Deck',\n",
    "    'The Life of the World to Come',\n",
    "    'Heretic Pride',\n",
    "    'Get Lonely',\n",
    "    'The Sunset Tree',\n",
    "    'We Shall All Be Healed',\n",
    "    'Tallahassee',\n",
    "    'All Hail West Texas',\n",
    "    \"The Coroner's Gambit\",\n",
    "    'Full Force Galesburg',\n",
    "    'Nothing for Juice',\n",
    "    'Sweden',\n",
    "    'Zopilote Machine'\n",
    "]"
   ]
  },
  {
   "cell_type": "code",
   "execution_count": 67,
   "metadata": {},
   "outputs": [],
   "source": [
    "album_years = [2015,\n",
    "          2012,\n",
    "          2011,\n",
    "          2009,\n",
    "          2008,\n",
    "          2006,\n",
    "          2005,\n",
    "          2004,\n",
    "          2002,\n",
    "          2002,\n",
    "          2000,\n",
    "          1997,\n",
    "            1996,\n",
    "            1995,\n",
    "            1994\n",
    "         ]"
   ]
  },
  {
   "cell_type": "code",
   "execution_count": 66,
   "metadata": {},
   "outputs": [],
   "source": [
    "album_labels = ['Merge',\n",
    "             'Merge',\n",
    "             'Merge',\n",
    "             '4AD',\n",
    "             '4AD',\n",
    "             '4AD',\n",
    "             '4AD',\n",
    "             '4AD',\n",
    "             '4AD',\n",
    "             'Emperor Jones',\n",
    "             'Absolutely Kosher',\n",
    "             'Emperor Jones',\n",
    "             'Ajax',\n",
    "             'Shrimper',\n",
    "             'Ajax'\n",
    "            ]"
   ]
  },
  {
   "cell_type": "code",
   "execution_count": 65,
   "metadata": {},
   "outputs": [],
   "source": [
    "# Hi-fi or lo-fi \n",
    "fi = [\n",
    "    'hi-fi',\n",
    "    'hi-fi',\n",
    "    'hi-fi',\n",
    "    'hi-fi',\n",
    "    'hi-fi',\n",
    "    'hi-fi',\n",
    "    'hi-fi',\n",
    "    'hi-fi',\n",
    "    'hi-fi',\n",
    "    'lo-fi',\n",
    "    'lo-fi',\n",
    "    'lo-fi',\n",
    "    'lo-fi',\n",
    "    'lo-fi',\n",
    "    'lo-fi'\n",
    "]\n",
    "# Hi-fi or lo-fi represented as 1 or 0, respectively\n",
    "fi_binary = np.array([1, 1, 1, 1, 1, 1, 1, 1, 1, 0, 0, 0, 0, 0, 0])"
   ]
  },
  {
   "cell_type": "code",
   "execution_count": 9,
   "metadata": {},
   "outputs": [],
   "source": [
    "neg = lambda n : [n[i]['neg'] for i in range(len(n))]\n",
    "posi = lambda p : [p[i]['pos'] for i in range(len(p))]\n",
    "neu = lambda ne : [ne[i]['neu'] for i in range(len(ne))]"
   ]
  },
  {
   "cell_type": "code",
   "execution_count": 53,
   "metadata": {},
   "outputs": [],
   "source": [
    "def get_sentiment(lyrics):\n",
    "    #neg_avg = []\n",
    "    #posi_avg = []\n",
    "    #neu_avg = []\n",
    "    #neg_med = []\n",
    "    #posi_med = []\n",
    "    #neu_med = []\n",
    "    \n",
    "    stats_list = []\n",
    "    \n",
    "    for l in lyrics:\n",
    "        # run the sentiment intensity analysis for all items\n",
    "        tmp_sia = [sia.polarity_scores(y) for y in l]\n",
    "        # get statistics on mean, median, and standard dev\n",
    "        # for negative, positive, and neutral sentiments\n",
    "        tmp_neg_one,tmp_neg_two,tmp_neg_three = get_stats(neg(tmp_sia))\n",
    "        tmp_pos_one,tmp_pos_two,tmp_pos_three = get_stats(posi(tmp_sia))\n",
    "        tmp_neu_one,tmp_neu_two,tmp_neu_three = get_stats(neu(tmp_sia))\n",
    "        \n",
    "        tmp_list = [tmp_neg_one,tmp_neg_two,tmp_neg_three,\n",
    "                    tmp_pos_one,tmp_pos_two,tmp_pos_three,\n",
    "                    tmp_neu_one,tmp_neu_two,tmp_neu_three\n",
    "                   ]\n",
    "        \n",
    "        stats_list.append(tmp_list)\n",
    "        \n",
    "    return stats_list\n",
    "  \n",
    "    #return neg_avg,neg_med,posi_avg,posi_med,neu_avg,neu_med"
   ]
  },
  {
   "cell_type": "code",
   "execution_count": 37,
   "metadata": {},
   "outputs": [],
   "source": [
    "def get_stats(info):\n",
    "    me = stat.mean(info)\n",
    "    med = stat.median(info)\n",
    "    sdev = stat.stdev(info)\n",
    "    return me,med,sdev"
   ]
  },
  {
   "cell_type": "code",
   "execution_count": 70,
   "metadata": {},
   "outputs": [],
   "source": [
    "album_stats = get_sentiment(album_lines)"
   ]
  },
  {
   "cell_type": "code",
   "execution_count": 117,
   "metadata": {},
   "outputs": [],
   "source": [
    "album_stats2 = get_sentiment(album_words)"
   ]
  },
  {
   "cell_type": "code",
   "execution_count": 75,
   "metadata": {},
   "outputs": [],
   "source": [
    "merge_lists = lambda l : [item for sublist in l for item in sublist]"
   ]
  },
  {
   "cell_type": "code",
   "execution_count": 115,
   "metadata": {},
   "outputs": [],
   "source": [
    "def make_df(stats_list):\n",
    "    album_list = []\n",
    "    for i in range(15):\n",
    "        tmp = [album_names[i],album_labels[i],fi[i],album_years[i]]\n",
    "        tmp_list = tmp + stats_list[i]\n",
    "        album_list.append(tmp_list)\n",
    "    my_df = pd.DataFrame(data = album_list,\n",
    "                         columns = ['Album.Name',\n",
    "                                    'Album.Label',\n",
    "                                    'Hi.Lo.Fi',\n",
    "                                    'Album.Year',\n",
    "                                    'Avg.Neg','Med.Neg','StDev.Neg',\n",
    "             'Avg.Posi','Med.Posi','StDev.Posi',\n",
    "            'Avg.Neu','Med.Neu','StDev.Neu']\n",
    "                        )\n",
    "    return my_df\n",
    "                                    \n",
    "                         \n",
    "    "
   ]
  },
  {
   "cell_type": "code",
   "execution_count": 116,
   "metadata": {},
   "outputs": [
    {
     "data": {
      "text/html": [
       "<div>\n",
       "<style scoped>\n",
       "    .dataframe tbody tr th:only-of-type {\n",
       "        vertical-align: middle;\n",
       "    }\n",
       "\n",
       "    .dataframe tbody tr th {\n",
       "        vertical-align: top;\n",
       "    }\n",
       "\n",
       "    .dataframe thead th {\n",
       "        text-align: right;\n",
       "    }\n",
       "</style>\n",
       "<table border=\"1\" class=\"dataframe\">\n",
       "  <thead>\n",
       "    <tr style=\"text-align: right;\">\n",
       "      <th></th>\n",
       "      <th>Album.Name</th>\n",
       "      <th>Album.Label</th>\n",
       "      <th>Hi.Lo.Fi</th>\n",
       "      <th>Album.Year</th>\n",
       "      <th>Avg.Neg</th>\n",
       "      <th>Med.Neg</th>\n",
       "      <th>StDev.Neg</th>\n",
       "      <th>Avg.Posi</th>\n",
       "      <th>Med.Posi</th>\n",
       "      <th>StDev.Posi</th>\n",
       "      <th>Avg.Neu</th>\n",
       "      <th>Med.Neu</th>\n",
       "      <th>StDev.Neu</th>\n",
       "    </tr>\n",
       "  </thead>\n",
       "  <tbody>\n",
       "    <tr>\n",
       "      <th>0</th>\n",
       "      <td>Beat the Champ</td>\n",
       "      <td>Merge</td>\n",
       "      <td>hi-fi</td>\n",
       "      <td>2015</td>\n",
       "      <td>0.094639</td>\n",
       "      <td>0.0</td>\n",
       "      <td>0.195087</td>\n",
       "      <td>0.105624</td>\n",
       "      <td>0.0</td>\n",
       "      <td>0.187506</td>\n",
       "      <td>0.799746</td>\n",
       "      <td>1.0</td>\n",
       "      <td>0.249782</td>\n",
       "    </tr>\n",
       "    <tr>\n",
       "      <th>1</th>\n",
       "      <td>Transcendental Youth</td>\n",
       "      <td>Merge</td>\n",
       "      <td>hi-fi</td>\n",
       "      <td>2012</td>\n",
       "      <td>0.076955</td>\n",
       "      <td>0.0</td>\n",
       "      <td>0.153169</td>\n",
       "      <td>0.102189</td>\n",
       "      <td>0.0</td>\n",
       "      <td>0.185459</td>\n",
       "      <td>0.820856</td>\n",
       "      <td>1.0</td>\n",
       "      <td>0.221431</td>\n",
       "    </tr>\n",
       "    <tr>\n",
       "      <th>2</th>\n",
       "      <td>All Eternals Deck</td>\n",
       "      <td>Merge</td>\n",
       "      <td>hi-fi</td>\n",
       "      <td>2011</td>\n",
       "      <td>0.057598</td>\n",
       "      <td>0.0</td>\n",
       "      <td>0.138113</td>\n",
       "      <td>0.107645</td>\n",
       "      <td>0.0</td>\n",
       "      <td>0.195561</td>\n",
       "      <td>0.834766</td>\n",
       "      <td>1.0</td>\n",
       "      <td>0.231127</td>\n",
       "    </tr>\n",
       "    <tr>\n",
       "      <th>3</th>\n",
       "      <td>The Life of the World to Come</td>\n",
       "      <td>4AD</td>\n",
       "      <td>hi-fi</td>\n",
       "      <td>2009</td>\n",
       "      <td>0.068080</td>\n",
       "      <td>0.0</td>\n",
       "      <td>0.148477</td>\n",
       "      <td>0.070293</td>\n",
       "      <td>0.0</td>\n",
       "      <td>0.146694</td>\n",
       "      <td>0.861630</td>\n",
       "      <td>1.0</td>\n",
       "      <td>0.200291</td>\n",
       "    </tr>\n",
       "    <tr>\n",
       "      <th>4</th>\n",
       "      <td>Heretic Pride</td>\n",
       "      <td>4AD</td>\n",
       "      <td>hi-fi</td>\n",
       "      <td>2008</td>\n",
       "      <td>0.068213</td>\n",
       "      <td>0.0</td>\n",
       "      <td>0.150194</td>\n",
       "      <td>0.085722</td>\n",
       "      <td>0.0</td>\n",
       "      <td>0.194051</td>\n",
       "      <td>0.846070</td>\n",
       "      <td>1.0</td>\n",
       "      <td>0.228836</td>\n",
       "    </tr>\n",
       "    <tr>\n",
       "      <th>5</th>\n",
       "      <td>Get Lonely</td>\n",
       "      <td>4AD</td>\n",
       "      <td>hi-fi</td>\n",
       "      <td>2006</td>\n",
       "      <td>0.067858</td>\n",
       "      <td>0.0</td>\n",
       "      <td>0.160274</td>\n",
       "      <td>0.062006</td>\n",
       "      <td>0.0</td>\n",
       "      <td>0.133065</td>\n",
       "      <td>0.870140</td>\n",
       "      <td>1.0</td>\n",
       "      <td>0.195595</td>\n",
       "    </tr>\n",
       "    <tr>\n",
       "      <th>6</th>\n",
       "      <td>The Sunset Tree</td>\n",
       "      <td>4AD</td>\n",
       "      <td>hi-fi</td>\n",
       "      <td>2005</td>\n",
       "      <td>0.064758</td>\n",
       "      <td>0.0</td>\n",
       "      <td>0.140908</td>\n",
       "      <td>0.071815</td>\n",
       "      <td>0.0</td>\n",
       "      <td>0.155714</td>\n",
       "      <td>0.863433</td>\n",
       "      <td>1.0</td>\n",
       "      <td>0.202443</td>\n",
       "    </tr>\n",
       "    <tr>\n",
       "      <th>7</th>\n",
       "      <td>We Shall All Be Healed</td>\n",
       "      <td>4AD</td>\n",
       "      <td>hi-fi</td>\n",
       "      <td>2004</td>\n",
       "      <td>0.042608</td>\n",
       "      <td>0.0</td>\n",
       "      <td>0.118405</td>\n",
       "      <td>0.085246</td>\n",
       "      <td>0.0</td>\n",
       "      <td>0.164869</td>\n",
       "      <td>0.872147</td>\n",
       "      <td>1.0</td>\n",
       "      <td>0.202518</td>\n",
       "    </tr>\n",
       "    <tr>\n",
       "      <th>8</th>\n",
       "      <td>Tallahassee</td>\n",
       "      <td>4AD</td>\n",
       "      <td>hi-fi</td>\n",
       "      <td>2002</td>\n",
       "      <td>0.072182</td>\n",
       "      <td>0.0</td>\n",
       "      <td>0.150827</td>\n",
       "      <td>0.109621</td>\n",
       "      <td>0.0</td>\n",
       "      <td>0.197108</td>\n",
       "      <td>0.818205</td>\n",
       "      <td>1.0</td>\n",
       "      <td>0.249920</td>\n",
       "    </tr>\n",
       "    <tr>\n",
       "      <th>9</th>\n",
       "      <td>All Hail West Texas</td>\n",
       "      <td>Emperor Jones</td>\n",
       "      <td>lo-fi</td>\n",
       "      <td>2002</td>\n",
       "      <td>0.060354</td>\n",
       "      <td>0.0</td>\n",
       "      <td>0.137448</td>\n",
       "      <td>0.096566</td>\n",
       "      <td>0.0</td>\n",
       "      <td>0.181431</td>\n",
       "      <td>0.843078</td>\n",
       "      <td>1.0</td>\n",
       "      <td>0.218602</td>\n",
       "    </tr>\n",
       "    <tr>\n",
       "      <th>10</th>\n",
       "      <td>The Coroner's Gambit</td>\n",
       "      <td>Absolutely Kosher</td>\n",
       "      <td>lo-fi</td>\n",
       "      <td>2000</td>\n",
       "      <td>0.058033</td>\n",
       "      <td>0.0</td>\n",
       "      <td>0.135367</td>\n",
       "      <td>0.091765</td>\n",
       "      <td>0.0</td>\n",
       "      <td>0.189186</td>\n",
       "      <td>0.850208</td>\n",
       "      <td>1.0</td>\n",
       "      <td>0.223896</td>\n",
       "    </tr>\n",
       "    <tr>\n",
       "      <th>11</th>\n",
       "      <td>Full Force Galesburg</td>\n",
       "      <td>Emperor Jones</td>\n",
       "      <td>lo-fi</td>\n",
       "      <td>1997</td>\n",
       "      <td>0.041686</td>\n",
       "      <td>0.0</td>\n",
       "      <td>0.115350</td>\n",
       "      <td>0.069101</td>\n",
       "      <td>0.0</td>\n",
       "      <td>0.155168</td>\n",
       "      <td>0.889213</td>\n",
       "      <td>1.0</td>\n",
       "      <td>0.185662</td>\n",
       "    </tr>\n",
       "    <tr>\n",
       "      <th>12</th>\n",
       "      <td>Nothing for Juice</td>\n",
       "      <td>Ajax</td>\n",
       "      <td>lo-fi</td>\n",
       "      <td>1996</td>\n",
       "      <td>0.053184</td>\n",
       "      <td>0.0</td>\n",
       "      <td>0.167142</td>\n",
       "      <td>0.062068</td>\n",
       "      <td>0.0</td>\n",
       "      <td>0.154257</td>\n",
       "      <td>0.884735</td>\n",
       "      <td>1.0</td>\n",
       "      <td>0.226578</td>\n",
       "    </tr>\n",
       "    <tr>\n",
       "      <th>13</th>\n",
       "      <td>Sweden</td>\n",
       "      <td>Shrimper</td>\n",
       "      <td>lo-fi</td>\n",
       "      <td>1995</td>\n",
       "      <td>0.063230</td>\n",
       "      <td>0.0</td>\n",
       "      <td>0.146595</td>\n",
       "      <td>0.084877</td>\n",
       "      <td>0.0</td>\n",
       "      <td>0.185978</td>\n",
       "      <td>0.851896</td>\n",
       "      <td>1.0</td>\n",
       "      <td>0.243337</td>\n",
       "    </tr>\n",
       "    <tr>\n",
       "      <th>14</th>\n",
       "      <td>Zopilote Machine</td>\n",
       "      <td>Ajax</td>\n",
       "      <td>lo-fi</td>\n",
       "      <td>1994</td>\n",
       "      <td>0.060284</td>\n",
       "      <td>0.0</td>\n",
       "      <td>0.155744</td>\n",
       "      <td>0.088086</td>\n",
       "      <td>0.0</td>\n",
       "      <td>0.205727</td>\n",
       "      <td>0.851633</td>\n",
       "      <td>1.0</td>\n",
       "      <td>0.245204</td>\n",
       "    </tr>\n",
       "  </tbody>\n",
       "</table>\n",
       "</div>"
      ],
      "text/plain": [
       "                       Album.Name        Album.Label Hi.Lo.Fi  Album.Year  \\\n",
       "0                  Beat the Champ              Merge    hi-fi        2015   \n",
       "1            Transcendental Youth              Merge    hi-fi        2012   \n",
       "2               All Eternals Deck              Merge    hi-fi        2011   \n",
       "3   The Life of the World to Come                4AD    hi-fi        2009   \n",
       "4                   Heretic Pride                4AD    hi-fi        2008   \n",
       "5                      Get Lonely                4AD    hi-fi        2006   \n",
       "6                 The Sunset Tree                4AD    hi-fi        2005   \n",
       "7          We Shall All Be Healed                4AD    hi-fi        2004   \n",
       "8                     Tallahassee                4AD    hi-fi        2002   \n",
       "9             All Hail West Texas      Emperor Jones    lo-fi        2002   \n",
       "10           The Coroner's Gambit  Absolutely Kosher    lo-fi        2000   \n",
       "11           Full Force Galesburg      Emperor Jones    lo-fi        1997   \n",
       "12              Nothing for Juice               Ajax    lo-fi        1996   \n",
       "13                         Sweden           Shrimper    lo-fi        1995   \n",
       "14               Zopilote Machine               Ajax    lo-fi        1994   \n",
       "\n",
       "     Avg.Neg  Med.Neg  StDev.Neg  Avg.Posi  Med.Posi  StDev.Posi   Avg.Neu  \\\n",
       "0   0.094639      0.0   0.195087  0.105624       0.0    0.187506  0.799746   \n",
       "1   0.076955      0.0   0.153169  0.102189       0.0    0.185459  0.820856   \n",
       "2   0.057598      0.0   0.138113  0.107645       0.0    0.195561  0.834766   \n",
       "3   0.068080      0.0   0.148477  0.070293       0.0    0.146694  0.861630   \n",
       "4   0.068213      0.0   0.150194  0.085722       0.0    0.194051  0.846070   \n",
       "5   0.067858      0.0   0.160274  0.062006       0.0    0.133065  0.870140   \n",
       "6   0.064758      0.0   0.140908  0.071815       0.0    0.155714  0.863433   \n",
       "7   0.042608      0.0   0.118405  0.085246       0.0    0.164869  0.872147   \n",
       "8   0.072182      0.0   0.150827  0.109621       0.0    0.197108  0.818205   \n",
       "9   0.060354      0.0   0.137448  0.096566       0.0    0.181431  0.843078   \n",
       "10  0.058033      0.0   0.135367  0.091765       0.0    0.189186  0.850208   \n",
       "11  0.041686      0.0   0.115350  0.069101       0.0    0.155168  0.889213   \n",
       "12  0.053184      0.0   0.167142  0.062068       0.0    0.154257  0.884735   \n",
       "13  0.063230      0.0   0.146595  0.084877       0.0    0.185978  0.851896   \n",
       "14  0.060284      0.0   0.155744  0.088086       0.0    0.205727  0.851633   \n",
       "\n",
       "    Med.Neu  StDev.Neu  \n",
       "0       1.0   0.249782  \n",
       "1       1.0   0.221431  \n",
       "2       1.0   0.231127  \n",
       "3       1.0   0.200291  \n",
       "4       1.0   0.228836  \n",
       "5       1.0   0.195595  \n",
       "6       1.0   0.202443  \n",
       "7       1.0   0.202518  \n",
       "8       1.0   0.249920  \n",
       "9       1.0   0.218602  \n",
       "10      1.0   0.223896  \n",
       "11      1.0   0.185662  \n",
       "12      1.0   0.226578  \n",
       "13      1.0   0.243337  \n",
       "14      1.0   0.245204  "
      ]
     },
     "execution_count": 116,
     "metadata": {},
     "output_type": "execute_result"
    }
   ],
   "source": [
    "'''goats_df = make_df([neg_avg,neg_med,posi_avg,posi_med,neu_avg,neu_med,al_years,al_labels,fi],\n",
    "                   al_names,\n",
    "                   ['Avg.Neg.Sentiment',\n",
    "                                'Median.Neg.Sentiment',\n",
    "                                  'Avg.Posi.Sentiment',\n",
    "                                'Median.Posi.Sentiment',\n",
    "                                  'Avg.Neu.Sentiment',\n",
    "                                'Median.Neu.Sentiment',\n",
    "                                 'Album.Year',\n",
    "                                 'Album.Label',\n",
    "                               'Hi.Lo.Fi']\n",
    "                  )'''\n",
    "\n",
    "goats_df = make_df(album_stats)\n",
    "goats_df"
   ]
  },
  {
   "cell_type": "markdown",
   "metadata": {},
   "source": [
    "# Can album sentiment predict whether an album is hi-fi or lo-fi?"
   ]
  },
  {
   "cell_type": "markdown",
   "metadata": {},
   "source": [
    "First, I made the above data frame into a numpy array."
   ]
  },
  {
   "cell_type": "code",
   "execution_count": 91,
   "metadata": {},
   "outputs": [
    {
     "data": {
      "text/plain": [
       "array([['Beat the Champ', 'Merge', 'hi-fi', 2015, 0.09463880597014926,\n",
       "        0.0, 0.19508660210768783, 0.10562388059701493, 0.0,\n",
       "        0.1875060925872836, 0.7997462686567164, 1.0, 0.24978176961828136],\n",
       "       ['Transcendental Youth', 'Merge', 'hi-fi', 2012,\n",
       "        0.07695492957746479, 0.0, 0.1531688747024278, 0.1021887323943662,\n",
       "        0.0, 0.1854586493187786, 0.820856338028169, 1.0,\n",
       "        0.22143126921587222],\n",
       "       ['All Eternals Deck', 'Merge', 'hi-fi', 2011, 0.05759787234042553,\n",
       "        0.0, 0.1381132920661759, 0.10764468085106382, 0.0,\n",
       "        0.19556074131347245, 0.8347659574468085, 1.0,\n",
       "        0.23112736709321943],\n",
       "       ['The Life of the World to Come', '4AD', 'hi-fi', 2009,\n",
       "        0.06807988165680473, 0.0, 0.14847746427726174,\n",
       "        0.07029289940828402, 0.0, 0.14669401330639378,\n",
       "        0.8616301775147929, 1.0, 0.20029096618193498],\n",
       "       ['Heretic Pride', '4AD', 'hi-fi', 2008, 0.06821300448430494, 0.0,\n",
       "        0.15019438165238255, 0.0857219730941704, 0.0,\n",
       "        0.19405129360508272, 0.8460695067264574, 1.0,\n",
       "        0.22883635704150201],\n",
       "       ['Get Lonely', '4AD', 'hi-fi', 2006, 0.06785755813953488, 0.0,\n",
       "        0.16027390931417354, 0.06200581395348837, 0.0,\n",
       "        0.1330645077825245, 0.870139534883721, 1.0, 0.19559468490937482],\n",
       "       ['The Sunset Tree', '4AD', 'hi-fi', 2005, 0.06475838926174497,\n",
       "        0.0, 0.14090822052983637, 0.07181543624161074, 0.0,\n",
       "        0.15571389685374287, 0.8634328859060403, 1.0,\n",
       "        0.20244258576455065],\n",
       "       ['We Shall All Be Healed', '4AD', 'hi-fi', 2004,\n",
       "        0.042607784431137725, 0.0, 0.11840521379540418,\n",
       "        0.08524550898203592, 0.0, 0.16486904320155624,\n",
       "        0.8721467065868264, 1.0, 0.20251836242981275],\n",
       "       ['Tallahassee', '4AD', 'hi-fi', 2002, 0.07218158567774936, 0.0,\n",
       "        0.1508270711896012, 0.10962148337595908, 0.0,\n",
       "        0.19710763673779375, 0.8182046035805627, 1.0,\n",
       "        0.24992028283759704],\n",
       "       ['All Hail West Texas', 'Emperor Jones', 'lo-fi', 2002, 0.060354,\n",
       "        0.0, 0.1374477079796448, 0.096566, 0.0, 0.18143136532763374,\n",
       "        0.843078, 1.0, 0.21860157642256117],\n",
       "       [\"The Coroner's Gambit\", 'Absolutely Kosher', 'lo-fi', 2000,\n",
       "        0.058032738095238096, 0.0, 0.13536738997373537,\n",
       "        0.09176488095238096, 0.0, 0.1891864627512867, 0.8502083333333333,\n",
       "        1.0, 0.22389621407388047],\n",
       "       ['Full Force Galesburg', 'Emperor Jones', 'lo-fi', 1997,\n",
       "        0.0416859756097561, 0.0, 0.1153500808334383, 0.06910060975609757,\n",
       "        0.0, 0.15516824921799013, 0.8892134146341464, 1.0,\n",
       "        0.1856619619115419],\n",
       "       ['Nothing for Juice', 'Ajax', 'lo-fi', 1996, 0.053183870967741936,\n",
       "        0.0, 0.16714170992102212, 0.062067741935483874, 0.0,\n",
       "        0.15425683178861382, 0.8847354838709678, 1.0, 0.226577621308726],\n",
       "       ['Sweden', 'Shrimper', 'lo-fi', 1995, 0.06322977346278318, 0.0,\n",
       "        0.14659495267444864, 0.08487702265372168, 0.0, 0.185977946315637,\n",
       "        0.8518964401294499, 1.0, 0.24333701901878496],\n",
       "       ['Zopilote Machine', 'Ajax', 'lo-fi', 1994, 0.060283667621776504,\n",
       "        0.0, 0.15574440191140027, 0.08808595988538682, 0.0,\n",
       "        0.205726756492177, 0.8516332378223496, 1.0, 0.2452036395918382]],\n",
       "      dtype=object)"
      ]
     },
     "execution_count": 91,
     "metadata": {},
     "output_type": "execute_result"
    }
   ],
   "source": [
    "goats_np = goats_df.to_numpy()\n",
    "goats_np"
   ]
  },
  {
   "cell_type": "code",
   "execution_count": 105,
   "metadata": {},
   "outputs": [],
   "source": [
    "goats_nums = [g[3:14] for g in goats_np]\n",
    "goats_nums_df = pd.DataFrame(data=goats_nums)\n",
    "goats_np_num = goats_nums_df.to_numpy()"
   ]
  },
  {
   "cell_type": "code",
   "execution_count": 109,
   "metadata": {},
   "outputs": [
    {
     "data": {
      "text/plain": [
       "array([[2.01500000e+03, 9.46388060e-02, 1.05623881e-01],\n",
       "       [2.01200000e+03, 7.69549296e-02, 1.02188732e-01],\n",
       "       [2.01100000e+03, 5.75978723e-02, 1.07644681e-01],\n",
       "       [2.00900000e+03, 6.80798817e-02, 7.02928994e-02],\n",
       "       [2.00800000e+03, 6.82130045e-02, 8.57219731e-02],\n",
       "       [2.00600000e+03, 6.78575581e-02, 6.20058140e-02],\n",
       "       [2.00500000e+03, 6.47583893e-02, 7.18154362e-02],\n",
       "       [2.00400000e+03, 4.26077844e-02, 8.52455090e-02],\n",
       "       [2.00200000e+03, 7.21815857e-02, 1.09621483e-01],\n",
       "       [2.00200000e+03, 6.03540000e-02, 9.65660000e-02],\n",
       "       [2.00000000e+03, 5.80327381e-02, 9.17648810e-02],\n",
       "       [1.99700000e+03, 4.16859756e-02, 6.91006098e-02],\n",
       "       [1.99600000e+03, 5.31838710e-02, 6.20677419e-02],\n",
       "       [1.99500000e+03, 6.32297735e-02, 8.48770227e-02],\n",
       "       [1.99400000e+03, 6.02836676e-02, 8.80859599e-02]])"
      ]
     },
     "execution_count": 109,
     "metadata": {},
     "output_type": "execute_result"
    }
   ],
   "source": [
    "x,y = goats_np_num, fi_binary\n",
    "k_best = SelectKBest(chi2, k=3).fit_transform(x,y)\n",
    "k_best"
   ]
  },
  {
   "cell_type": "code",
   "execution_count": 106,
   "metadata": {},
   "outputs": [
    {
     "name": "stdout",
     "output_type": "stream",
     "text": [
      "Accuracy: 0.70 (+/- 0.33)\n"
     ]
    }
   ],
   "source": [
    "clf_pipe = make_pipeline(preprocessing.StandardScaler(), svm.SVC(C=1,gamma='auto'))\n",
    "new = cross_val_score(clf_pipe,goats_np_num,fi_binary,cv=5)\n",
    "print(\"Accuracy: %0.2f (+/- %0.2f)\" % (new.mean(), new.std() * 2))"
   ]
  },
  {
   "cell_type": "code",
   "execution_count": 108,
   "metadata": {},
   "outputs": [
    {
     "name": "stdout",
     "output_type": "stream",
     "text": [
      "Accuracy: 0.73 (+/- 0.45)\n"
     ]
    }
   ],
   "source": [
    "old = cross_val_score(clf_pipe,k_best,fi_binary,cv=5)\n",
    "print(\"Accuracy: %0.2f (+/- %0.2f)\" % (old.mean(), old.std() * 2))"
   ]
  },
  {
   "cell_type": "code",
   "execution_count": 111,
   "metadata": {},
   "outputs": [],
   "source": [
    "import matplotlib.pyplot as plt"
   ]
  },
  {
   "cell_type": "code",
   "execution_count": 118,
   "metadata": {},
   "outputs": [
    {
     "data": {
      "text/html": [
       "<div>\n",
       "<style scoped>\n",
       "    .dataframe tbody tr th:only-of-type {\n",
       "        vertical-align: middle;\n",
       "    }\n",
       "\n",
       "    .dataframe tbody tr th {\n",
       "        vertical-align: top;\n",
       "    }\n",
       "\n",
       "    .dataframe thead th {\n",
       "        text-align: right;\n",
       "    }\n",
       "</style>\n",
       "<table border=\"1\" class=\"dataframe\">\n",
       "  <thead>\n",
       "    <tr style=\"text-align: right;\">\n",
       "      <th></th>\n",
       "      <th>Album.Name</th>\n",
       "      <th>Album.Label</th>\n",
       "      <th>Hi.Lo.Fi</th>\n",
       "      <th>Album.Year</th>\n",
       "      <th>Avg.Neg</th>\n",
       "      <th>Med.Neg</th>\n",
       "      <th>StDev.Neg</th>\n",
       "      <th>Avg.Posi</th>\n",
       "      <th>Med.Posi</th>\n",
       "      <th>StDev.Posi</th>\n",
       "      <th>Avg.Neu</th>\n",
       "      <th>Med.Neu</th>\n",
       "      <th>StDev.Neu</th>\n",
       "    </tr>\n",
       "  </thead>\n",
       "  <tbody>\n",
       "    <tr>\n",
       "      <th>0</th>\n",
       "      <td>Beat the Champ</td>\n",
       "      <td>Merge</td>\n",
       "      <td>hi-fi</td>\n",
       "      <td>2015</td>\n",
       "      <td>0.030839</td>\n",
       "      <td>0.0</td>\n",
       "      <td>0.172913</td>\n",
       "      <td>0.053027</td>\n",
       "      <td>0.0</td>\n",
       "      <td>0.224130</td>\n",
       "      <td>0.894321</td>\n",
       "      <td>1.0</td>\n",
       "      <td>0.307484</td>\n",
       "    </tr>\n",
       "    <tr>\n",
       "      <th>1</th>\n",
       "      <td>Transcendental Youth</td>\n",
       "      <td>Merge</td>\n",
       "      <td>hi-fi</td>\n",
       "      <td>2012</td>\n",
       "      <td>0.046168</td>\n",
       "      <td>0.0</td>\n",
       "      <td>0.209895</td>\n",
       "      <td>0.052443</td>\n",
       "      <td>0.0</td>\n",
       "      <td>0.222968</td>\n",
       "      <td>0.868669</td>\n",
       "      <td>1.0</td>\n",
       "      <td>0.337838</td>\n",
       "    </tr>\n",
       "    <tr>\n",
       "      <th>2</th>\n",
       "      <td>All Eternals Deck</td>\n",
       "      <td>Merge</td>\n",
       "      <td>hi-fi</td>\n",
       "      <td>2011</td>\n",
       "      <td>0.034336</td>\n",
       "      <td>0.0</td>\n",
       "      <td>0.182127</td>\n",
       "      <td>0.040123</td>\n",
       "      <td>0.0</td>\n",
       "      <td>0.196287</td>\n",
       "      <td>0.881944</td>\n",
       "      <td>1.0</td>\n",
       "      <td>0.322736</td>\n",
       "    </tr>\n",
       "    <tr>\n",
       "      <th>3</th>\n",
       "      <td>The Life of the World to Come</td>\n",
       "      <td>4AD</td>\n",
       "      <td>hi-fi</td>\n",
       "      <td>2009</td>\n",
       "      <td>0.031533</td>\n",
       "      <td>0.0</td>\n",
       "      <td>0.174792</td>\n",
       "      <td>0.032397</td>\n",
       "      <td>0.0</td>\n",
       "      <td>0.177091</td>\n",
       "      <td>0.873866</td>\n",
       "      <td>1.0</td>\n",
       "      <td>0.332072</td>\n",
       "    </tr>\n",
       "    <tr>\n",
       "      <th>4</th>\n",
       "      <td>Heretic Pride</td>\n",
       "      <td>4AD</td>\n",
       "      <td>hi-fi</td>\n",
       "      <td>2008</td>\n",
       "      <td>0.032508</td>\n",
       "      <td>0.0</td>\n",
       "      <td>0.177379</td>\n",
       "      <td>0.037539</td>\n",
       "      <td>0.0</td>\n",
       "      <td>0.190115</td>\n",
       "      <td>0.884288</td>\n",
       "      <td>1.0</td>\n",
       "      <td>0.319941</td>\n",
       "    </tr>\n",
       "    <tr>\n",
       "      <th>5</th>\n",
       "      <td>Get Lonely</td>\n",
       "      <td>4AD</td>\n",
       "      <td>hi-fi</td>\n",
       "      <td>2006</td>\n",
       "      <td>0.039385</td>\n",
       "      <td>0.0</td>\n",
       "      <td>0.194556</td>\n",
       "      <td>0.056196</td>\n",
       "      <td>0.0</td>\n",
       "      <td>0.230355</td>\n",
       "      <td>0.869837</td>\n",
       "      <td>1.0</td>\n",
       "      <td>0.336564</td>\n",
       "    </tr>\n",
       "    <tr>\n",
       "      <th>6</th>\n",
       "      <td>The Sunset Tree</td>\n",
       "      <td>4AD</td>\n",
       "      <td>hi-fi</td>\n",
       "      <td>2005</td>\n",
       "      <td>0.032474</td>\n",
       "      <td>0.0</td>\n",
       "      <td>0.177297</td>\n",
       "      <td>0.034384</td>\n",
       "      <td>0.0</td>\n",
       "      <td>0.182257</td>\n",
       "      <td>0.892550</td>\n",
       "      <td>1.0</td>\n",
       "      <td>0.309758</td>\n",
       "    </tr>\n",
       "    <tr>\n",
       "      <th>7</th>\n",
       "      <td>We Shall All Be Healed</td>\n",
       "      <td>4AD</td>\n",
       "      <td>hi-fi</td>\n",
       "      <td>2004</td>\n",
       "      <td>0.023362</td>\n",
       "      <td>0.0</td>\n",
       "      <td>0.151086</td>\n",
       "      <td>0.044892</td>\n",
       "      <td>0.0</td>\n",
       "      <td>0.207115</td>\n",
       "      <td>0.890060</td>\n",
       "      <td>1.0</td>\n",
       "      <td>0.312887</td>\n",
       "    </tr>\n",
       "    <tr>\n",
       "      <th>8</th>\n",
       "      <td>Tallahassee</td>\n",
       "      <td>4AD</td>\n",
       "      <td>hi-fi</td>\n",
       "      <td>2002</td>\n",
       "      <td>0.038814</td>\n",
       "      <td>0.0</td>\n",
       "      <td>0.193193</td>\n",
       "      <td>0.057130</td>\n",
       "      <td>0.0</td>\n",
       "      <td>0.232142</td>\n",
       "      <td>0.855648</td>\n",
       "      <td>1.0</td>\n",
       "      <td>0.351523</td>\n",
       "    </tr>\n",
       "    <tr>\n",
       "      <th>9</th>\n",
       "      <td>All Hail West Texas</td>\n",
       "      <td>Emperor Jones</td>\n",
       "      <td>lo-fi</td>\n",
       "      <td>2002</td>\n",
       "      <td>0.030406</td>\n",
       "      <td>0.0</td>\n",
       "      <td>0.171727</td>\n",
       "      <td>0.045752</td>\n",
       "      <td>0.0</td>\n",
       "      <td>0.208976</td>\n",
       "      <td>0.861608</td>\n",
       "      <td>1.0</td>\n",
       "      <td>0.345360</td>\n",
       "    </tr>\n",
       "    <tr>\n",
       "      <th>10</th>\n",
       "      <td>The Coroner's Gambit</td>\n",
       "      <td>Absolutely Kosher</td>\n",
       "      <td>lo-fi</td>\n",
       "      <td>2000</td>\n",
       "      <td>0.032907</td>\n",
       "      <td>0.0</td>\n",
       "      <td>0.178433</td>\n",
       "      <td>0.044333</td>\n",
       "      <td>0.0</td>\n",
       "      <td>0.205880</td>\n",
       "      <td>0.873857</td>\n",
       "      <td>1.0</td>\n",
       "      <td>0.332086</td>\n",
       "    </tr>\n",
       "    <tr>\n",
       "      <th>11</th>\n",
       "      <td>Full Force Galesburg</td>\n",
       "      <td>Emperor Jones</td>\n",
       "      <td>lo-fi</td>\n",
       "      <td>1997</td>\n",
       "      <td>0.020255</td>\n",
       "      <td>0.0</td>\n",
       "      <td>0.140904</td>\n",
       "      <td>0.032144</td>\n",
       "      <td>0.0</td>\n",
       "      <td>0.176422</td>\n",
       "      <td>0.899604</td>\n",
       "      <td>1.0</td>\n",
       "      <td>0.300594</td>\n",
       "    </tr>\n",
       "    <tr>\n",
       "      <th>12</th>\n",
       "      <td>Nothing for Juice</td>\n",
       "      <td>Ajax</td>\n",
       "      <td>lo-fi</td>\n",
       "      <td>1996</td>\n",
       "      <td>0.024202</td>\n",
       "      <td>0.0</td>\n",
       "      <td>0.153715</td>\n",
       "      <td>0.028836</td>\n",
       "      <td>0.0</td>\n",
       "      <td>0.167389</td>\n",
       "      <td>0.884655</td>\n",
       "      <td>1.0</td>\n",
       "      <td>0.319520</td>\n",
       "    </tr>\n",
       "    <tr>\n",
       "      <th>13</th>\n",
       "      <td>Sweden</td>\n",
       "      <td>Shrimper</td>\n",
       "      <td>lo-fi</td>\n",
       "      <td>1995</td>\n",
       "      <td>0.026344</td>\n",
       "      <td>0.0</td>\n",
       "      <td>0.160197</td>\n",
       "      <td>0.041623</td>\n",
       "      <td>0.0</td>\n",
       "      <td>0.199778</td>\n",
       "      <td>0.861960</td>\n",
       "      <td>1.0</td>\n",
       "      <td>0.345033</td>\n",
       "    </tr>\n",
       "    <tr>\n",
       "      <th>14</th>\n",
       "      <td>Zopilote Machine</td>\n",
       "      <td>Ajax</td>\n",
       "      <td>lo-fi</td>\n",
       "      <td>1994</td>\n",
       "      <td>0.024401</td>\n",
       "      <td>0.0</td>\n",
       "      <td>0.154322</td>\n",
       "      <td>0.034497</td>\n",
       "      <td>0.0</td>\n",
       "      <td>0.182541</td>\n",
       "      <td>0.882204</td>\n",
       "      <td>1.0</td>\n",
       "      <td>0.322434</td>\n",
       "    </tr>\n",
       "  </tbody>\n",
       "</table>\n",
       "</div>"
      ],
      "text/plain": [
       "                       Album.Name        Album.Label Hi.Lo.Fi  Album.Year  \\\n",
       "0                  Beat the Champ              Merge    hi-fi        2015   \n",
       "1            Transcendental Youth              Merge    hi-fi        2012   \n",
       "2               All Eternals Deck              Merge    hi-fi        2011   \n",
       "3   The Life of the World to Come                4AD    hi-fi        2009   \n",
       "4                   Heretic Pride                4AD    hi-fi        2008   \n",
       "5                      Get Lonely                4AD    hi-fi        2006   \n",
       "6                 The Sunset Tree                4AD    hi-fi        2005   \n",
       "7          We Shall All Be Healed                4AD    hi-fi        2004   \n",
       "8                     Tallahassee                4AD    hi-fi        2002   \n",
       "9             All Hail West Texas      Emperor Jones    lo-fi        2002   \n",
       "10           The Coroner's Gambit  Absolutely Kosher    lo-fi        2000   \n",
       "11           Full Force Galesburg      Emperor Jones    lo-fi        1997   \n",
       "12              Nothing for Juice               Ajax    lo-fi        1996   \n",
       "13                         Sweden           Shrimper    lo-fi        1995   \n",
       "14               Zopilote Machine               Ajax    lo-fi        1994   \n",
       "\n",
       "     Avg.Neg  Med.Neg  StDev.Neg  Avg.Posi  Med.Posi  StDev.Posi   Avg.Neu  \\\n",
       "0   0.030839      0.0   0.172913  0.053027       0.0    0.224130  0.894321   \n",
       "1   0.046168      0.0   0.209895  0.052443       0.0    0.222968  0.868669   \n",
       "2   0.034336      0.0   0.182127  0.040123       0.0    0.196287  0.881944   \n",
       "3   0.031533      0.0   0.174792  0.032397       0.0    0.177091  0.873866   \n",
       "4   0.032508      0.0   0.177379  0.037539       0.0    0.190115  0.884288   \n",
       "5   0.039385      0.0   0.194556  0.056196       0.0    0.230355  0.869837   \n",
       "6   0.032474      0.0   0.177297  0.034384       0.0    0.182257  0.892550   \n",
       "7   0.023362      0.0   0.151086  0.044892       0.0    0.207115  0.890060   \n",
       "8   0.038814      0.0   0.193193  0.057130       0.0    0.232142  0.855648   \n",
       "9   0.030406      0.0   0.171727  0.045752       0.0    0.208976  0.861608   \n",
       "10  0.032907      0.0   0.178433  0.044333       0.0    0.205880  0.873857   \n",
       "11  0.020255      0.0   0.140904  0.032144       0.0    0.176422  0.899604   \n",
       "12  0.024202      0.0   0.153715  0.028836       0.0    0.167389  0.884655   \n",
       "13  0.026344      0.0   0.160197  0.041623       0.0    0.199778  0.861960   \n",
       "14  0.024401      0.0   0.154322  0.034497       0.0    0.182541  0.882204   \n",
       "\n",
       "    Med.Neu  StDev.Neu  \n",
       "0       1.0   0.307484  \n",
       "1       1.0   0.337838  \n",
       "2       1.0   0.322736  \n",
       "3       1.0   0.332072  \n",
       "4       1.0   0.319941  \n",
       "5       1.0   0.336564  \n",
       "6       1.0   0.309758  \n",
       "7       1.0   0.312887  \n",
       "8       1.0   0.351523  \n",
       "9       1.0   0.345360  \n",
       "10      1.0   0.332086  \n",
       "11      1.0   0.300594  \n",
       "12      1.0   0.319520  \n",
       "13      1.0   0.345033  \n",
       "14      1.0   0.322434  "
      ]
     },
     "execution_count": 118,
     "metadata": {},
     "output_type": "execute_result"
    }
   ],
   "source": [
    "goats_df2 = make_df(album_stats2)\n",
    "goats_df2"
   ]
  },
  {
   "cell_type": "code",
   "execution_count": 119,
   "metadata": {},
   "outputs": [
    {
     "data": {
      "text/plain": [
       "array([['Beat the Champ', 'Merge', 'hi-fi', 2015, 0.030838661150808574,\n",
       "        0.0, 0.1729129334025095, 0.05302745393004889, 0.0,\n",
       "        0.22413039795649117, 0.8943211733734486, 1.0,\n",
       "        0.30748393347392494],\n",
       "       ['Transcendental Youth', 'Merge', 'hi-fi', 2012,\n",
       "        0.04616763783056925, 0.0, 0.20989505524617377,\n",
       "        0.05244285073957866, 0.0, 0.22296834264572973, 0.868668758404303,\n",
       "        1.0, 0.33783798636034007],\n",
       "       ['All Eternals Deck', 'Merge', 'hi-fi', 2011, 0.03433641975308642,\n",
       "        0.0, 0.18212695348897945, 0.040123456790123455, 0.0,\n",
       "        0.19628660007376167, 0.8819444444444444, 1.0, 0.3227361554166535],\n",
       "       ['The Life of the World to Come', '4AD', 'hi-fi', 2009,\n",
       "        0.03153347732181425, 0.0, 0.1747922042710844,\n",
       "        0.032397408207343416, 0.0, 0.17709139779763244,\n",
       "        0.873866090712743, 1.0, 0.33207194975390886],\n",
       "       ['Heretic Pride', '4AD', 'hi-fi', 2008, 0.032507739938080496, 0.0,\n",
       "        0.17737858644391918, 0.03753869969040248, 0.0,\n",
       "        0.19011452640812682, 0.8842879256965944, 1.0, 0.3199412510091234],\n",
       "       ['Get Lonely', '4AD', 'hi-fi', 2006, 0.0393852065321806, 0.0,\n",
       "        0.19455639986067622, 0.056195965417867436, 0.0,\n",
       "        0.2303550860382203, 0.8698366954851104, 1.0, 0.3365638507049988],\n",
       "       ['The Sunset Tree', '4AD', 'hi-fi', 2005, 0.03247373447946514,\n",
       "        0.0, 0.1772969334379366, 0.034383954154727794, 0.0,\n",
       "        0.18225685463402783, 0.8925501432664756, 1.0, 0.3097583033827372],\n",
       "       ['We Shall All Be Healed', '4AD', 'hi-fi', 2004,\n",
       "        0.0233623453962437, 0.0, 0.15108607786993133,\n",
       "        0.04489234997709574, 0.0, 0.20711513035932486,\n",
       "        0.8900595510765003, 1.0, 0.3128871880071902],\n",
       "       ['Tallahassee', '4AD', 'hi-fi', 2002, 0.03881378107283035, 0.0,\n",
       "        0.1931930346588994, 0.057130396860008724, 0.0,\n",
       "        0.23214223352150676, 0.8556476232010467, 1.0,\n",
       "        0.35152333866520036],\n",
       "       ['All Hail West Texas', 'Emperor Jones', 'lo-fi', 2002,\n",
       "        0.030406365444728616, 0.0, 0.17172710520846315,\n",
       "        0.0457516339869281, 0.0, 0.20897567319280397, 0.8616084114805342,\n",
       "        1.0, 0.3453595963945109],\n",
       "       [\"The Coroner's Gambit\", 'Absolutely Kosher', 'lo-fi', 2000,\n",
       "        0.03290676416819013, 0.0, 0.17843335013081865,\n",
       "        0.0443327239488117, 0.0, 0.20588031933130108, 0.8738574040219378,\n",
       "        1.0, 0.3320858987204498],\n",
       "       ['Full Force Galesburg', 'Emperor Jones', 'lo-fi', 1997,\n",
       "        0.02025539409951563, 0.0, 0.14090370985167766,\n",
       "        0.032144429766622636, 0.0, 0.17642242136647215,\n",
       "        0.8996036988110965, 1.0, 0.3005938639926191],\n",
       "       ['Nothing for Juice', 'Ajax', 'lo-fi', 1996, 0.02420185375901133,\n",
       "        0.0, 0.1537149668113243, 0.028836251287332648, 0.0,\n",
       "        0.16738921675418425, 0.8846549948506695, 1.0, 0.3195201183834958],\n",
       "       ['Sweden', 'Shrimper', 'lo-fi', 1995, 0.026343519494204427, 0.0,\n",
       "        0.16019693998659898, 0.04162276080084299, 0.0,\n",
       "        0.19977821373869795, 0.8619599578503688, 1.0,\n",
       "        0.34503291383170837],\n",
       "       ['Zopilote Machine', 'Ajax', 'lo-fi', 1994, 0.02440050483803113,\n",
       "        0.0, 0.15432154480714683, 0.0344972654606647, 0.0,\n",
       "        0.18254101544573545, 0.8822044594026083, 1.0,\n",
       "        0.32243369625674806]], dtype=object)"
      ]
     },
     "execution_count": 119,
     "metadata": {},
     "output_type": "execute_result"
    }
   ],
   "source": [
    "goats_np2 = goats_df2.to_numpy()\n",
    "goats_np2"
   ]
  },
  {
   "cell_type": "code",
   "execution_count": 120,
   "metadata": {},
   "outputs": [],
   "source": [
    "goats_nums2 = [g[3:14] for g in goats_np2]\n",
    "goats_nums_df2 = pd.DataFrame(data=goats_nums2)\n",
    "goats_np_num2 = goats_nums_df2.to_numpy()"
   ]
  },
  {
   "cell_type": "code",
   "execution_count": 112,
   "metadata": {},
   "outputs": [],
   "source": [
    "estimators = [\n",
    "    ('2 clusters',KMeans(n_clusters=2)),\n",
    "    ('3 clusters',KMeans(n_clusters=3)),\n",
    "    ('4 clusters',KMeans(n_clusters=4))\n",
    "]"
   ]
  },
  {
   "cell_type": "code",
   "execution_count": 122,
   "metadata": {},
   "outputs": [
    {
     "data": {
      "text/plain": [
       "array([[2.01500000e+03, 3.08386612e-02, 1.72912933e-01],\n",
       "       [2.01200000e+03, 4.61676378e-02, 2.09895055e-01],\n",
       "       [2.01100000e+03, 3.43364198e-02, 1.82126953e-01],\n",
       "       [2.00900000e+03, 3.15334773e-02, 1.74792204e-01],\n",
       "       [2.00800000e+03, 3.25077399e-02, 1.77378586e-01],\n",
       "       [2.00600000e+03, 3.93852065e-02, 1.94556400e-01],\n",
       "       [2.00500000e+03, 3.24737345e-02, 1.77296933e-01],\n",
       "       [2.00400000e+03, 2.33623454e-02, 1.51086078e-01],\n",
       "       [2.00200000e+03, 3.88137811e-02, 1.93193035e-01],\n",
       "       [2.00200000e+03, 3.04063654e-02, 1.71727105e-01],\n",
       "       [2.00000000e+03, 3.29067642e-02, 1.78433350e-01],\n",
       "       [1.99700000e+03, 2.02553941e-02, 1.40903710e-01],\n",
       "       [1.99600000e+03, 2.42018538e-02, 1.53714967e-01],\n",
       "       [1.99500000e+03, 2.63435195e-02, 1.60196940e-01],\n",
       "       [1.99400000e+03, 2.44005048e-02, 1.54321545e-01]])"
      ]
     },
     "execution_count": 122,
     "metadata": {},
     "output_type": "execute_result"
    }
   ],
   "source": [
    "x2,y2 = goats_np_num2, fi_binary\n",
    "k_best2 = SelectKBest(chi2, k=3).fit_transform(x2,y2)\n",
    "k_best2"
   ]
  },
  {
   "cell_type": "code",
   "execution_count": 158,
   "metadata": {},
   "outputs": [
    {
     "name": "stdout",
     "output_type": "stream",
     "text": [
      "Accuracy: 0.77 (+/- 0.40)\n"
     ]
    }
   ],
   "source": [
    "newt = cross_val_score(clf_pipe,goats_np_num2,fi_binary,cv=5)\n",
    "print(\"Accuracy: %0.2f (+/- %0.2f)\" % (newt.mean(), newt.std() * 2))"
   ]
  },
  {
   "cell_type": "code",
   "execution_count": 159,
   "metadata": {},
   "outputs": [
    {
     "name": "stdout",
     "output_type": "stream",
     "text": [
      "Accuracy: 0.83 (+/- 0.42)\n"
     ]
    }
   ],
   "source": [
    "newt = cross_val_score(clf_pipe,k_best2,fi_binary,cv=5)\n",
    "print(\"Accuracy: %0.2f (+/- %0.2f)\" % (newt.mean(), newt.std() * 2))"
   ]
  },
  {
   "cell_type": "code",
   "execution_count": 167,
   "metadata": {},
   "outputs": [
    {
     "data": {
      "text/plain": [
       "0.9375"
      ]
     },
     "execution_count": 167,
     "metadata": {},
     "output_type": "execute_result"
    }
   ],
   "source": []
  },
  {
   "cell_type": "code",
   "execution_count": 126,
   "metadata": {},
   "outputs": [],
   "source": [
    "predict_dict = {}\n",
    "i = 0\n",
    "for c,e in estimators:\n",
    "    predict_dict[c] = e.fit_predict(goats_np_num2)\n",
    "    i += 1"
   ]
  },
  {
   "cell_type": "code",
   "execution_count": 133,
   "metadata": {},
   "outputs": [],
   "source": [
    "predict_dict['Actual'] = fi_binary"
   ]
  },
  {
   "cell_type": "code",
   "execution_count": 136,
   "metadata": {},
   "outputs": [
    {
     "data": {
      "text/html": [
       "<div>\n",
       "<style scoped>\n",
       "    .dataframe tbody tr th:only-of-type {\n",
       "        vertical-align: middle;\n",
       "    }\n",
       "\n",
       "    .dataframe tbody tr th {\n",
       "        vertical-align: top;\n",
       "    }\n",
       "\n",
       "    .dataframe thead th {\n",
       "        text-align: right;\n",
       "    }\n",
       "</style>\n",
       "<table border=\"1\" class=\"dataframe\">\n",
       "  <thead>\n",
       "    <tr style=\"text-align: right;\">\n",
       "      <th></th>\n",
       "      <th>2 clusters</th>\n",
       "      <th>3 clusters</th>\n",
       "      <th>4 clusters</th>\n",
       "      <th>Target</th>\n",
       "      <th>Actual</th>\n",
       "    </tr>\n",
       "  </thead>\n",
       "  <tbody>\n",
       "    <tr>\n",
       "      <th>Beat the Champ</th>\n",
       "      <td>1</td>\n",
       "      <td>0</td>\n",
       "      <td>0</td>\n",
       "      <td>1</td>\n",
       "      <td>1</td>\n",
       "    </tr>\n",
       "    <tr>\n",
       "      <th>Transcendental Youth</th>\n",
       "      <td>1</td>\n",
       "      <td>0</td>\n",
       "      <td>0</td>\n",
       "      <td>1</td>\n",
       "      <td>1</td>\n",
       "    </tr>\n",
       "    <tr>\n",
       "      <th>All Eternals Deck</th>\n",
       "      <td>1</td>\n",
       "      <td>0</td>\n",
       "      <td>0</td>\n",
       "      <td>1</td>\n",
       "      <td>1</td>\n",
       "    </tr>\n",
       "    <tr>\n",
       "      <th>The Life of the World to Come</th>\n",
       "      <td>1</td>\n",
       "      <td>0</td>\n",
       "      <td>3</td>\n",
       "      <td>1</td>\n",
       "      <td>1</td>\n",
       "    </tr>\n",
       "    <tr>\n",
       "      <th>Heretic Pride</th>\n",
       "      <td>1</td>\n",
       "      <td>0</td>\n",
       "      <td>3</td>\n",
       "      <td>1</td>\n",
       "      <td>1</td>\n",
       "    </tr>\n",
       "    <tr>\n",
       "      <th>Get Lonely</th>\n",
       "      <td>1</td>\n",
       "      <td>2</td>\n",
       "      <td>3</td>\n",
       "      <td>1</td>\n",
       "      <td>1</td>\n",
       "    </tr>\n",
       "    <tr>\n",
       "      <th>The Sunset Tree</th>\n",
       "      <td>1</td>\n",
       "      <td>2</td>\n",
       "      <td>3</td>\n",
       "      <td>1</td>\n",
       "      <td>1</td>\n",
       "    </tr>\n",
       "    <tr>\n",
       "      <th>We Shall All Be Healed</th>\n",
       "      <td>1</td>\n",
       "      <td>2</td>\n",
       "      <td>1</td>\n",
       "      <td>1</td>\n",
       "      <td>1</td>\n",
       "    </tr>\n",
       "    <tr>\n",
       "      <th>Tallahassee</th>\n",
       "      <td>0</td>\n",
       "      <td>2</td>\n",
       "      <td>1</td>\n",
       "      <td>1</td>\n",
       "      <td>1</td>\n",
       "    </tr>\n",
       "    <tr>\n",
       "      <th>All Hail West Texas</th>\n",
       "      <td>0</td>\n",
       "      <td>2</td>\n",
       "      <td>1</td>\n",
       "      <td>0</td>\n",
       "      <td>0</td>\n",
       "    </tr>\n",
       "    <tr>\n",
       "      <th>The Coroner's Gambit</th>\n",
       "      <td>0</td>\n",
       "      <td>2</td>\n",
       "      <td>1</td>\n",
       "      <td>0</td>\n",
       "      <td>0</td>\n",
       "    </tr>\n",
       "    <tr>\n",
       "      <th>Full Force Galesburg</th>\n",
       "      <td>0</td>\n",
       "      <td>1</td>\n",
       "      <td>2</td>\n",
       "      <td>0</td>\n",
       "      <td>0</td>\n",
       "    </tr>\n",
       "    <tr>\n",
       "      <th>Nothing for Juice</th>\n",
       "      <td>0</td>\n",
       "      <td>1</td>\n",
       "      <td>2</td>\n",
       "      <td>0</td>\n",
       "      <td>0</td>\n",
       "    </tr>\n",
       "    <tr>\n",
       "      <th>Sweden</th>\n",
       "      <td>0</td>\n",
       "      <td>1</td>\n",
       "      <td>2</td>\n",
       "      <td>0</td>\n",
       "      <td>0</td>\n",
       "    </tr>\n",
       "    <tr>\n",
       "      <th>Zopilote Machine</th>\n",
       "      <td>0</td>\n",
       "      <td>1</td>\n",
       "      <td>2</td>\n",
       "      <td>0</td>\n",
       "      <td>0</td>\n",
       "    </tr>\n",
       "  </tbody>\n",
       "</table>\n",
       "</div>"
      ],
      "text/plain": [
       "                               2 clusters  3 clusters  4 clusters  Target  \\\n",
       "Beat the Champ                          1           0           0       1   \n",
       "Transcendental Youth                    1           0           0       1   \n",
       "All Eternals Deck                       1           0           0       1   \n",
       "The Life of the World to Come           1           0           3       1   \n",
       "Heretic Pride                           1           0           3       1   \n",
       "Get Lonely                              1           2           3       1   \n",
       "The Sunset Tree                         1           2           3       1   \n",
       "We Shall All Be Healed                  1           2           1       1   \n",
       "Tallahassee                             0           2           1       1   \n",
       "All Hail West Texas                     0           2           1       0   \n",
       "The Coroner's Gambit                    0           2           1       0   \n",
       "Full Force Galesburg                    0           1           2       0   \n",
       "Nothing for Juice                       0           1           2       0   \n",
       "Sweden                                  0           1           2       0   \n",
       "Zopilote Machine                        0           1           2       0   \n",
       "\n",
       "                               Actual  \n",
       "Beat the Champ                      1  \n",
       "Transcendental Youth                1  \n",
       "All Eternals Deck                   1  \n",
       "The Life of the World to Come       1  \n",
       "Heretic Pride                       1  \n",
       "Get Lonely                          1  \n",
       "The Sunset Tree                     1  \n",
       "We Shall All Be Healed              1  \n",
       "Tallahassee                         1  \n",
       "All Hail West Texas                 0  \n",
       "The Coroner's Gambit                0  \n",
       "Full Force Galesburg                0  \n",
       "Nothing for Juice                   0  \n",
       "Sweden                              0  \n",
       "Zopilote Machine                    0  "
      ]
     },
     "execution_count": 136,
     "metadata": {},
     "output_type": "execute_result"
    }
   ],
   "source": [
    "my_df2 = pd.DataFrame(predict_dict,index=album_names)\n",
    "my_df2"
   ]
  },
  {
   "cell_type": "code",
   "execution_count": 151,
   "metadata": {},
   "outputs": [
    {
     "data": {
      "text/plain": [
       "array([[1, 0, 0, 1, 1],\n",
       "       [1, 0, 0, 1, 1],\n",
       "       [1, 0, 0, 1, 1],\n",
       "       [1, 0, 3, 1, 1],\n",
       "       [1, 0, 3, 1, 1],\n",
       "       [1, 2, 3, 1, 1],\n",
       "       [1, 2, 3, 1, 1],\n",
       "       [1, 2, 1, 1, 1],\n",
       "       [0, 2, 1, 1, 1],\n",
       "       [0, 2, 1, 0, 0],\n",
       "       [0, 2, 1, 0, 0],\n",
       "       [0, 1, 2, 0, 0],\n",
       "       [0, 1, 2, 0, 0],\n",
       "       [0, 1, 2, 0, 0],\n",
       "       [0, 1, 2, 0, 0]])"
      ]
     },
     "execution_count": 151,
     "metadata": {},
     "output_type": "execute_result"
    }
   ],
   "source": [
    "xxx = my_df2.to_numpy()\n",
    "xxx"
   ]
  },
  {
   "cell_type": "code",
   "execution_count": 164,
   "metadata": {},
   "outputs": [
    {
     "data": {
      "text/plain": [
       "[<matplotlib.lines.Line2D at 0x1a21c67198>]"
      ]
     },
     "execution_count": 164,
     "metadata": {},
     "output_type": "execute_result"
    },
    {
     "data": {
      "image/png": "[encoded data removed]",
      "text/plain": [
       "<Figure size 432x288 with 1 Axes>"
      ]
     },
     "metadata": {
      "needs_background": "light"
     },
     "output_type": "display_data"
    }
   ],
   "source": []
  },
  {
   "cell_type": "code",
   "execution_count": 163,
   "metadata": {},
   "outputs": [
    {
     "ename": "NameError",
     "evalue": "name 'kmeans' is not defined",
     "output_type": "error",
     "traceback": [
      "\u001b[0;31m---------------------------------------------------------------------------\u001b[0m",
      "\u001b[0;31mNameError\u001b[0m                                 Traceback (most recent call last)",
      "\u001b[0;32m<ipython-input-163-9e7a2f77816d>\u001b[0m in \u001b[0;36m<module>\u001b[0;34m\u001b[0m\n\u001b[1;32m      1\u001b[0m \u001b[0mplt\u001b[0m\u001b[0;34m.\u001b[0m\u001b[0mscatter\u001b[0m\u001b[0;34m(\u001b[0m\u001b[0mxxx\u001b[0m\u001b[0;34m[\u001b[0m\u001b[0;34m:\u001b[0m\u001b[0;34m,\u001b[0m \u001b[0;36m0\u001b[0m\u001b[0;34m]\u001b[0m\u001b[0;34m,\u001b[0m \u001b[0mxxx\u001b[0m\u001b[0;34m[\u001b[0m\u001b[0;34m:\u001b[0m\u001b[0;34m,\u001b[0m \u001b[0;36m1\u001b[0m\u001b[0;34m]\u001b[0m\u001b[0;34m)\u001b[0m\u001b[0;34m\u001b[0m\u001b[0;34m\u001b[0m\u001b[0m\n\u001b[1;32m      2\u001b[0m \u001b[0;34m\u001b[0m\u001b[0m\n\u001b[0;32m----> 3\u001b[0;31m \u001b[0mcenters\u001b[0m \u001b[0;34m=\u001b[0m \u001b[0mkmeans\u001b[0m\u001b[0;34m.\u001b[0m\u001b[0mcluster_centers_\u001b[0m\u001b[0;34m\u001b[0m\u001b[0;34m\u001b[0m\u001b[0m\n\u001b[0m\u001b[1;32m      4\u001b[0m \u001b[0mplt\u001b[0m\u001b[0;34m.\u001b[0m\u001b[0mscatter\u001b[0m\u001b[0;34m(\u001b[0m\u001b[0mcenters\u001b[0m\u001b[0;34m[\u001b[0m\u001b[0;34m:\u001b[0m\u001b[0;34m,\u001b[0m \u001b[0;36m0\u001b[0m\u001b[0;34m]\u001b[0m\u001b[0;34m,\u001b[0m \u001b[0mcenters\u001b[0m\u001b[0;34m[\u001b[0m\u001b[0;34m:\u001b[0m\u001b[0;34m,\u001b[0m \u001b[0;36m1\u001b[0m\u001b[0;34m]\u001b[0m\u001b[0;34m,\u001b[0m \u001b[0mc\u001b[0m\u001b[0;34m=\u001b[0m\u001b[0;34m'black'\u001b[0m\u001b[0;34m,\u001b[0m \u001b[0ms\u001b[0m\u001b[0;34m=\u001b[0m\u001b[0;36m200\u001b[0m\u001b[0;34m,\u001b[0m \u001b[0malpha\u001b[0m\u001b[0;34m=\u001b[0m\u001b[0;36m0.5\u001b[0m\u001b[0;34m)\u001b[0m\u001b[0;34m;\u001b[0m\u001b[0;34m\u001b[0m\u001b[0;34m\u001b[0m\u001b[0m\n",
      "\u001b[0;31mNameError\u001b[0m: name 'kmeans' is not defined"
     ]
    },
    {
     "data": {
      "image/png": "[encoded data removed]",
      "text/plain": [
       "<Figure size 432x288 with 1 Axes>"
      ]
     },
     "metadata": {
      "needs_background": "light"
     },
     "output_type": "display_data"
    }
   ],
   "source": [
    "plt.scatter(xxx[:, 0], xxx[:, 1])\n",
    "\n",
    "centers = kmeans.cluster_centers_\n",
    "plt.scatter(centers[:, 0], centers[:, 1], c='black', s=200, alpha=0.5);"
   ]
  },
  {
   "cell_type": "code",
   "execution_count": null,
   "metadata": {},
   "outputs": [],
   "source": []
  },
  {
   "cell_type": "markdown",
   "metadata": {},
   "source": [
    "Next, I made two lists. One list (the \"big\" list) has all the information from the data frame, divided per album. The second (the \"small\" list) has only the sentiment scores."
   ]
  },
  {
   "cell_type": "code",
   "execution_count": 25,
   "metadata": {},
   "outputs": [],
   "source": [
    "indiv_list_big = []\n",
    "indiv_list_small = []\n",
    "for i in range(len(al_names)):\n",
    "    tmp_one = [neg_avg[i],neg_med[i],posi_avg[i],posi_med[i],neu_avg[i],neu_med[i],al_years[i]]\n",
    "    tmp_two = [neg_avg[i],posi_avg[i],neu_avg[i]]\n",
    "    indiv_list_big.append(tmp_one)\n",
    "    indiv_list_small.append(tmp_two)"
   ]
  },
  {
   "cell_type": "code",
   "execution_count": 26,
   "metadata": {},
   "outputs": [
    {
     "data": {
      "text/plain": [
       "array([[9.46388060e-02, 1.05623881e-01, 7.99746269e-01, 2.01500000e+03],\n",
       "       [7.69549296e-02, 1.02188732e-01, 8.20856338e-01, 2.01200000e+03],\n",
       "       [5.75978723e-02, 1.07644681e-01, 8.34765957e-01, 2.01100000e+03],\n",
       "       [6.80798817e-02, 7.02928994e-02, 8.61630178e-01, 2.00900000e+03],\n",
       "       [6.82130045e-02, 8.57219731e-02, 8.46069507e-01, 2.00800000e+03],\n",
       "       [6.78575581e-02, 6.20058140e-02, 8.70139535e-01, 2.00600000e+03],\n",
       "       [6.47583893e-02, 7.18154362e-02, 8.63432886e-01, 2.00500000e+03],\n",
       "       [4.26077844e-02, 8.52455090e-02, 8.72146707e-01, 2.00400000e+03],\n",
       "       [7.21815857e-02, 1.09621483e-01, 8.18204604e-01, 2.00200000e+03],\n",
       "       [6.03540000e-02, 9.65660000e-02, 8.43078000e-01, 2.00200000e+03],\n",
       "       [5.80327381e-02, 9.17648810e-02, 8.50208333e-01, 2.00000000e+03],\n",
       "       [4.16859756e-02, 6.91006098e-02, 8.89213415e-01, 1.99700000e+03],\n",
       "       [5.31838710e-02, 6.20677419e-02, 8.84735484e-01, 1.99600000e+03],\n",
       "       [6.32297735e-02, 8.48770227e-02, 8.51896440e-01, 1.99500000e+03],\n",
       "       [6.02836676e-02, 8.80859599e-02, 8.51633238e-01, 1.99400000e+03]])"
      ]
     },
     "execution_count": 26,
     "metadata": {},
     "output_type": "execute_result"
    }
   ],
   "source": [
    "goats_np_big = np.array(indiv_list_big)\n",
    "goats_np_big"
   ]
  },
  {
   "cell_type": "code",
   "execution_count": 24,
   "metadata": {},
   "outputs": [
    {
     "data": {
      "text/plain": [
       "array([[0.05759787, 0.10764468, 0.83476596],\n",
       "       [0.09463881, 0.10562388, 0.79974627],\n",
       "       [0.068213  , 0.08572197, 0.84606951],\n",
       "       [0.06785756, 0.06200581, 0.87013953],\n",
       "       [0.06807988, 0.0702929 , 0.86163018],\n",
       "       [0.07695493, 0.10218873, 0.82085634],\n",
       "       [0.06475839, 0.07181544, 0.86343289],\n",
       "       [0.04260778, 0.08524551, 0.87214671],\n",
       "       [0.07218159, 0.10962148, 0.8182046 ],\n",
       "       [0.060354  , 0.096566  , 0.843078  ],\n",
       "       [0.05803274, 0.09176488, 0.85020833],\n",
       "       [0.04168598, 0.06910061, 0.88921341],\n",
       "       [0.05318387, 0.06206774, 0.88473548],\n",
       "       [0.06322977, 0.08487702, 0.85189644],\n",
       "       [0.06028367, 0.08808596, 0.85163324]])"
      ]
     },
     "execution_count": 24,
     "metadata": {},
     "output_type": "execute_result"
    }
   ],
   "source": [
    "goats_np_small = np.array(indiv_list_small)\n",
    "goats_np_small"
   ]
  },
  {
   "cell_type": "code",
   "execution_count": 27,
   "metadata": {},
   "outputs": [
    {
     "data": {
      "text/plain": [
       "(15, 4)"
      ]
     },
     "execution_count": 27,
     "metadata": {},
     "output_type": "execute_result"
    }
   ],
   "source": [
    "goats_np_big.shape"
   ]
  },
  {
   "cell_type": "code",
   "execution_count": 26,
   "metadata": {},
   "outputs": [
    {
     "data": {
      "text/plain": [
       "(15, 3)"
      ]
     },
     "execution_count": 26,
     "metadata": {},
     "output_type": "execute_result"
    }
   ],
   "source": [
    "goats_np_small.shape"
   ]
  },
  {
   "cell_type": "markdown",
   "metadata": {},
   "source": [
    "In addition to the big numpy array and the sentiment-only, small numpy array, I made an array used sklearn's SelectKBest function for feature selection. I chose to use the 3 best features."
   ]
  },
  {
   "cell_type": "code",
   "execution_count": 28,
   "metadata": {},
   "outputs": [],
   "source": [
    "x,y = goats_np_big, fi_binary\n",
    "k_best = SelectKBest(chi2, k=3).fit_transform(x,y)"
   ]
  },
  {
   "cell_type": "markdown",
   "metadata": {},
   "source": [
    "The best three are *not* the negative, positive, and neutral sentiment polarities. Rather, the best predictors are negative, positive, and year."
   ]
  },
  {
   "cell_type": "code",
   "execution_count": 28,
   "metadata": {},
   "outputs": [
    {
     "data": {
      "text/plain": [
       "array([[5.75978723e-02, 1.07644681e-01, 2.01500000e+03],\n",
       "       [9.46388060e-02, 1.05623881e-01, 2.01200000e+03],\n",
       "       [6.82130045e-02, 8.57219731e-02, 2.01100000e+03],\n",
       "       [6.78575581e-02, 6.20058140e-02, 2.00900000e+03],\n",
       "       [6.80798817e-02, 7.02928994e-02, 2.00800000e+03],\n",
       "       [7.69549296e-02, 1.02188732e-01, 2.00600000e+03],\n",
       "       [6.47583893e-02, 7.18154362e-02, 2.00500000e+03],\n",
       "       [4.26077844e-02, 8.52455090e-02, 2.00400000e+03],\n",
       "       [7.21815857e-02, 1.09621483e-01, 2.00200000e+03],\n",
       "       [6.03540000e-02, 9.65660000e-02, 2.00200000e+03],\n",
       "       [5.80327381e-02, 9.17648810e-02, 2.00000000e+03],\n",
       "       [4.16859756e-02, 6.91006098e-02, 1.99700000e+03],\n",
       "       [5.31838710e-02, 6.20677419e-02, 1.99600000e+03],\n",
       "       [6.32297735e-02, 8.48770227e-02, 1.99500000e+03],\n",
       "       [6.02836676e-02, 8.80859599e-02, 1.99400000e+03]])"
      ]
     },
     "execution_count": 28,
     "metadata": {},
     "output_type": "execute_result"
    }
   ],
   "source": [
    "k_best"
   ]
  },
  {
   "cell_type": "markdown",
   "metadata": {},
   "source": [
    "### The \"big\" array and accuracy"
   ]
  },
  {
   "cell_type": "code",
   "execution_count": 29,
   "metadata": {},
   "outputs": [
    {
     "data": {
      "text/plain": [
       "array([0.5, 1. , 1. , 1. , 0.5])"
      ]
     },
     "execution_count": 29,
     "metadata": {},
     "output_type": "execute_result"
    }
   ],
   "source": [
    "clf = svm.SVC(kernel='linear', C=1)\n",
    "scores_big = cross_val_score(clf, goats_np_big, fi_binary, cv=5)\n",
    "scores_big                                         "
   ]
  },
  {
   "cell_type": "code",
   "execution_count": 30,
   "metadata": {},
   "outputs": [
    {
     "name": "stdout",
     "output_type": "stream",
     "text": [
      "Accuracy: 0.80 (+/- 0.49)\n"
     ]
    }
   ],
   "source": [
    "print(\"Accuracy: %0.2f (+/- %0.2f)\" % (scores_big.mean(), scores_big.std() * 2))"
   ]
  },
  {
   "cell_type": "markdown",
   "metadata": {},
   "source": [
    "### The \"small\" array and accuracy"
   ]
  },
  {
   "cell_type": "code",
   "execution_count": 31,
   "metadata": {},
   "outputs": [
    {
     "data": {
      "text/plain": [
       "array([0.5       , 0.66666667, 0.66666667, 0.66666667, 0.5       ])"
      ]
     },
     "execution_count": 31,
     "metadata": {},
     "output_type": "execute_result"
    }
   ],
   "source": [
    "scores_small = cross_val_score(clf,goats_np_small,fi_binary,cv=5)\n",
    "scores_small"
   ]
  },
  {
   "cell_type": "code",
   "execution_count": 32,
   "metadata": {},
   "outputs": [
    {
     "name": "stdout",
     "output_type": "stream",
     "text": [
      "Accuracy: 0.60 (+/- 0.16)\n"
     ]
    }
   ],
   "source": [
    "print(\"Accuracy: %0.2f (+/- %0.2f)\" % (scores_small.mean(), scores_small.std() * 2))"
   ]
  },
  {
   "cell_type": "markdown",
   "metadata": {},
   "source": [
    "### The k_best array and accuracy"
   ]
  },
  {
   "cell_type": "code",
   "execution_count": 33,
   "metadata": {},
   "outputs": [
    {
     "data": {
      "text/plain": [
       "array([0.5, 1. , 1. , 1. , 0.5])"
      ]
     },
     "execution_count": 33,
     "metadata": {},
     "output_type": "execute_result"
    }
   ],
   "source": [
    "scores_k = cross_val_score(clf,k_best,fi_binary,cv=5)\n",
    "scores_k"
   ]
  },
  {
   "cell_type": "code",
   "execution_count": 34,
   "metadata": {},
   "outputs": [
    {
     "name": "stdout",
     "output_type": "stream",
     "text": [
      "Accuracy: 0.80 (+/- 0.49)\n"
     ]
    }
   ],
   "source": [
    "print(\"Accuracy: %0.2f (+/- %0.2f)\" % (scores_k.mean(), scores_k.std() * 2))"
   ]
  },
  {
   "cell_type": "markdown",
   "metadata": {},
   "source": [
    "The accuracy, using a linear SVM, is the same for the big array and the k best array. Using only the sentiment scores was not nearly as effective."
   ]
  },
  {
   "cell_type": "markdown",
   "metadata": {},
   "source": [
    "### Pipelines and scaling\n",
    "\n",
    "I had not yet scaled my data, but scaling the big data set raised the accuracy to 88%. Scaling the k_best data set only increased the accuracy to 83%. The small array does not need to be scaled because all values are already on a scale of 0 to 1."
   ]
  },
  {
   "cell_type": "code",
   "execution_count": 31,
   "metadata": {},
   "outputs": [],
   "source": [
    "clf_pipe = make_pipeline(preprocessing.StandardScaler(), svm.SVC(C=1,gamma='auto'))"
   ]
  },
  {
   "cell_type": "code",
   "execution_count": 32,
   "metadata": {},
   "outputs": [
    {
     "name": "stdout",
     "output_type": "stream",
     "text": [
      "Accuracy: 0.82 (+/- 0.31)\n"
     ]
    }
   ],
   "source": [
    "new = cross_val_score(clf_pipe,goats_np_big,fi_binary,cv=5)\n",
    "print(\"Accuracy: %0.2f (+/- %0.2f)\" % (new.mean(), new.std() * 2))"
   ]
  },
  {
   "cell_type": "code",
   "execution_count": 33,
   "metadata": {},
   "outputs": [
    {
     "name": "stdout",
     "output_type": "stream",
     "text": [
      "Accuracy: 0.73 (+/- 0.45)\n"
     ]
    }
   ],
   "source": [
    "newtwo = cross_val_score(clf_pipe,k_best,fi_binary,cv=5)\n",
    "print(\"Accuracy: %0.2f (+/- %0.2f)\" % (newtwo.mean(), newtwo.std() * 2))"
   ]
  },
  {
   "cell_type": "markdown",
   "metadata": {},
   "source": [
    "### Moral of (this part of) the Story: SVM model does pretty well "
   ]
  },
  {
   "cell_type": "markdown",
   "metadata": {},
   "source": [
    "### Now let's do this with words instead of sentences"
   ]
  },
  {
   "cell_type": "code",
   "execution_count": 38,
   "metadata": {},
   "outputs": [],
   "source": [
    "lyrics = [aed_words,\n",
    "          btc_words,\n",
    "          heretic_words,\n",
    "          gl_words,\n",
    "          life_words,\n",
    "          ty_words,\n",
    "          sunset_words,\n",
    "         wsabh_words,\n",
    "         talla_words,\n",
    "          ahwt_words,\n",
    "          tcg_words,\n",
    "          ffg_words,\n",
    "          nfj_words,\n",
    "          sweden_words,\n",
    "          zopilote_words    \n",
    "]"
   ]
  },
  {
   "cell_type": "code",
   "execution_count": 39,
   "metadata": {},
   "outputs": [],
   "source": [
    "neg_avg2,neg_med2,posi_avg2,posi_med2,neu_avg2,neu_med2 = get_sentiment(lyrics)"
   ]
  },
  {
   "cell_type": "code",
   "execution_count": 40,
   "metadata": {},
   "outputs": [
    {
     "data": {
      "text/html": [
       "<div>\n",
       "<style scoped>\n",
       "    .dataframe tbody tr th:only-of-type {\n",
       "        vertical-align: middle;\n",
       "    }\n",
       "\n",
       "    .dataframe tbody tr th {\n",
       "        vertical-align: top;\n",
       "    }\n",
       "\n",
       "    .dataframe thead th {\n",
       "        text-align: right;\n",
       "    }\n",
       "</style>\n",
       "<table border=\"1\" class=\"dataframe\">\n",
       "  <thead>\n",
       "    <tr style=\"text-align: right;\">\n",
       "      <th></th>\n",
       "      <th>All Eternals Deck</th>\n",
       "      <th>Beat the Champ</th>\n",
       "      <th>Heretic Pride</th>\n",
       "      <th>Get Lonely</th>\n",
       "      <th>The Life of the World to Come</th>\n",
       "      <th>Transcendental Youth</th>\n",
       "      <th>The Sunset Tree</th>\n",
       "      <th>We Shall All Be Healed</th>\n",
       "      <th>Tallahassee</th>\n",
       "      <th>All Hail West Texas</th>\n",
       "      <th>The Coroner's Gambit</th>\n",
       "      <th>Full Force Galesburg</th>\n",
       "      <th>Nothing for Juice</th>\n",
       "      <th>Sweden</th>\n",
       "      <th>Zopilote Machine</th>\n",
       "    </tr>\n",
       "  </thead>\n",
       "  <tbody>\n",
       "    <tr>\n",
       "      <th>Avg.Neg.Sentiment</th>\n",
       "      <td>0.0308387</td>\n",
       "      <td>0.0461676</td>\n",
       "      <td>0.0343364</td>\n",
       "      <td>0.0315335</td>\n",
       "      <td>0.0325077</td>\n",
       "      <td>0.0393852</td>\n",
       "      <td>0.0324737</td>\n",
       "      <td>0.0233623</td>\n",
       "      <td>0.0388138</td>\n",
       "      <td>0.0304064</td>\n",
       "      <td>0.0329068</td>\n",
       "      <td>0.0202554</td>\n",
       "      <td>0.0242019</td>\n",
       "      <td>0.0263435</td>\n",
       "      <td>0.0244005</td>\n",
       "    </tr>\n",
       "    <tr>\n",
       "      <th>Median.Neg.Sentiment</th>\n",
       "      <td>0</td>\n",
       "      <td>0</td>\n",
       "      <td>0</td>\n",
       "      <td>0</td>\n",
       "      <td>0</td>\n",
       "      <td>0</td>\n",
       "      <td>0</td>\n",
       "      <td>0</td>\n",
       "      <td>0</td>\n",
       "      <td>0</td>\n",
       "      <td>0</td>\n",
       "      <td>0</td>\n",
       "      <td>0</td>\n",
       "      <td>0</td>\n",
       "      <td>0</td>\n",
       "    </tr>\n",
       "    <tr>\n",
       "      <th>Avg.Posi.Sentiment</th>\n",
       "      <td>0.0530275</td>\n",
       "      <td>0.0524429</td>\n",
       "      <td>0.0401235</td>\n",
       "      <td>0.0323974</td>\n",
       "      <td>0.0375387</td>\n",
       "      <td>0.056196</td>\n",
       "      <td>0.034384</td>\n",
       "      <td>0.0448923</td>\n",
       "      <td>0.0571304</td>\n",
       "      <td>0.0457516</td>\n",
       "      <td>0.0443327</td>\n",
       "      <td>0.0321444</td>\n",
       "      <td>0.0288363</td>\n",
       "      <td>0.0416228</td>\n",
       "      <td>0.0344973</td>\n",
       "    </tr>\n",
       "    <tr>\n",
       "      <th>Median.Posi.Sentiment</th>\n",
       "      <td>0</td>\n",
       "      <td>0</td>\n",
       "      <td>0</td>\n",
       "      <td>0</td>\n",
       "      <td>0</td>\n",
       "      <td>0</td>\n",
       "      <td>0</td>\n",
       "      <td>0</td>\n",
       "      <td>0</td>\n",
       "      <td>0</td>\n",
       "      <td>0</td>\n",
       "      <td>0</td>\n",
       "      <td>0</td>\n",
       "      <td>0</td>\n",
       "      <td>0</td>\n",
       "    </tr>\n",
       "    <tr>\n",
       "      <th>Avg.Neu.Sentiment</th>\n",
       "      <td>0.894321</td>\n",
       "      <td>0.868669</td>\n",
       "      <td>0.881944</td>\n",
       "      <td>0.873866</td>\n",
       "      <td>0.884288</td>\n",
       "      <td>0.869837</td>\n",
       "      <td>0.89255</td>\n",
       "      <td>0.89006</td>\n",
       "      <td>0.855648</td>\n",
       "      <td>0.861608</td>\n",
       "      <td>0.873857</td>\n",
       "      <td>0.899604</td>\n",
       "      <td>0.884655</td>\n",
       "      <td>0.86196</td>\n",
       "      <td>0.882204</td>\n",
       "    </tr>\n",
       "    <tr>\n",
       "      <th>Median.Neu.Sentiment</th>\n",
       "      <td>1</td>\n",
       "      <td>1</td>\n",
       "      <td>1</td>\n",
       "      <td>1</td>\n",
       "      <td>1</td>\n",
       "      <td>1</td>\n",
       "      <td>1</td>\n",
       "      <td>1</td>\n",
       "      <td>1</td>\n",
       "      <td>1</td>\n",
       "      <td>1</td>\n",
       "      <td>1</td>\n",
       "      <td>1</td>\n",
       "      <td>1</td>\n",
       "      <td>1</td>\n",
       "    </tr>\n",
       "    <tr>\n",
       "      <th>Album.Year</th>\n",
       "      <td>2015</td>\n",
       "      <td>2012</td>\n",
       "      <td>2011</td>\n",
       "      <td>2009</td>\n",
       "      <td>2008</td>\n",
       "      <td>2006</td>\n",
       "      <td>2005</td>\n",
       "      <td>2004</td>\n",
       "      <td>2002</td>\n",
       "      <td>2002</td>\n",
       "      <td>2000</td>\n",
       "      <td>1997</td>\n",
       "      <td>1996</td>\n",
       "      <td>1995</td>\n",
       "      <td>1994</td>\n",
       "    </tr>\n",
       "    <tr>\n",
       "      <th>Album.Label</th>\n",
       "      <td>Merge</td>\n",
       "      <td>Merge</td>\n",
       "      <td>Merge</td>\n",
       "      <td>4AD</td>\n",
       "      <td>4AD</td>\n",
       "      <td>4AD</td>\n",
       "      <td>4AD</td>\n",
       "      <td>4AD</td>\n",
       "      <td>4AD</td>\n",
       "      <td>Emperor Jones</td>\n",
       "      <td>Absolutely Kosher</td>\n",
       "      <td>Emperor Jones</td>\n",
       "      <td>Ajax</td>\n",
       "      <td>Shrimper</td>\n",
       "      <td>Ajax</td>\n",
       "    </tr>\n",
       "    <tr>\n",
       "      <th>Hi.Lo.Fi</th>\n",
       "      <td>hi-fi</td>\n",
       "      <td>hi-fi</td>\n",
       "      <td>hi-fi</td>\n",
       "      <td>hi-fi</td>\n",
       "      <td>hi-fi</td>\n",
       "      <td>hi-fi</td>\n",
       "      <td>hi-fi</td>\n",
       "      <td>hi-fi</td>\n",
       "      <td>hi-fi</td>\n",
       "      <td>lo-fi</td>\n",
       "      <td>lo-fi</td>\n",
       "      <td>lo-fi</td>\n",
       "      <td>lo-fi</td>\n",
       "      <td>lo-fi</td>\n",
       "      <td>lo-fi</td>\n",
       "    </tr>\n",
       "  </tbody>\n",
       "</table>\n",
       "</div>"
      ],
      "text/plain": [
       "                      All Eternals Deck Beat the Champ Heretic Pride  \\\n",
       "Avg.Neg.Sentiment             0.0308387      0.0461676     0.0343364   \n",
       "Median.Neg.Sentiment                  0              0             0   \n",
       "Avg.Posi.Sentiment            0.0530275      0.0524429     0.0401235   \n",
       "Median.Posi.Sentiment                 0              0             0   \n",
       "Avg.Neu.Sentiment              0.894321       0.868669      0.881944   \n",
       "Median.Neu.Sentiment                  1              1             1   \n",
       "Album.Year                         2015           2012          2011   \n",
       "Album.Label                       Merge          Merge         Merge   \n",
       "Hi.Lo.Fi                          hi-fi          hi-fi         hi-fi   \n",
       "\n",
       "                      Get Lonely The Life of the World to Come  \\\n",
       "Avg.Neg.Sentiment      0.0315335                     0.0325077   \n",
       "Median.Neg.Sentiment           0                             0   \n",
       "Avg.Posi.Sentiment     0.0323974                     0.0375387   \n",
       "Median.Posi.Sentiment          0                             0   \n",
       "Avg.Neu.Sentiment       0.873866                      0.884288   \n",
       "Median.Neu.Sentiment           1                             1   \n",
       "Album.Year                  2009                          2008   \n",
       "Album.Label                  4AD                           4AD   \n",
       "Hi.Lo.Fi                   hi-fi                         hi-fi   \n",
       "\n",
       "                      Transcendental Youth The Sunset Tree  \\\n",
       "Avg.Neg.Sentiment                0.0393852       0.0324737   \n",
       "Median.Neg.Sentiment                     0               0   \n",
       "Avg.Posi.Sentiment                0.056196        0.034384   \n",
       "Median.Posi.Sentiment                    0               0   \n",
       "Avg.Neu.Sentiment                 0.869837         0.89255   \n",
       "Median.Neu.Sentiment                     1               1   \n",
       "Album.Year                            2006            2005   \n",
       "Album.Label                            4AD             4AD   \n",
       "Hi.Lo.Fi                             hi-fi           hi-fi   \n",
       "\n",
       "                      We Shall All Be Healed Tallahassee All Hail West Texas  \\\n",
       "Avg.Neg.Sentiment                  0.0233623   0.0388138           0.0304064   \n",
       "Median.Neg.Sentiment                       0           0                   0   \n",
       "Avg.Posi.Sentiment                 0.0448923   0.0571304           0.0457516   \n",
       "Median.Posi.Sentiment                      0           0                   0   \n",
       "Avg.Neu.Sentiment                    0.89006    0.855648            0.861608   \n",
       "Median.Neu.Sentiment                       1           1                   1   \n",
       "Album.Year                              2004        2002                2002   \n",
       "Album.Label                              4AD         4AD       Emperor Jones   \n",
       "Hi.Lo.Fi                               hi-fi       hi-fi               lo-fi   \n",
       "\n",
       "                      The Coroner's Gambit Full Force Galesburg  \\\n",
       "Avg.Neg.Sentiment                0.0329068            0.0202554   \n",
       "Median.Neg.Sentiment                     0                    0   \n",
       "Avg.Posi.Sentiment               0.0443327            0.0321444   \n",
       "Median.Posi.Sentiment                    0                    0   \n",
       "Avg.Neu.Sentiment                 0.873857             0.899604   \n",
       "Median.Neu.Sentiment                     1                    1   \n",
       "Album.Year                            2000                 1997   \n",
       "Album.Label              Absolutely Kosher        Emperor Jones   \n",
       "Hi.Lo.Fi                             lo-fi                lo-fi   \n",
       "\n",
       "                      Nothing for Juice     Sweden Zopilote Machine  \n",
       "Avg.Neg.Sentiment             0.0242019  0.0263435        0.0244005  \n",
       "Median.Neg.Sentiment                  0          0                0  \n",
       "Avg.Posi.Sentiment            0.0288363  0.0416228        0.0344973  \n",
       "Median.Posi.Sentiment                 0          0                0  \n",
       "Avg.Neu.Sentiment              0.884655    0.86196         0.882204  \n",
       "Median.Neu.Sentiment                  1          1                1  \n",
       "Album.Year                         1996       1995             1994  \n",
       "Album.Label                        Ajax   Shrimper             Ajax  \n",
       "Hi.Lo.Fi                          lo-fi      lo-fi            lo-fi  "
      ]
     },
     "execution_count": 40,
     "metadata": {},
     "output_type": "execute_result"
    }
   ],
   "source": [
    "lyrics_df = make_df([neg_avg2,neg_med2,posi_avg2,posi_med2,neu_avg2,neu_med2,al_years,al_labels,fi],\n",
    "                   al_names,\n",
    "                   ['Avg.Neg.Sentiment',\n",
    "                                'Median.Neg.Sentiment',\n",
    "                                  'Avg.Posi.Sentiment',\n",
    "                                'Median.Posi.Sentiment',\n",
    "                                  'Avg.Neu.Sentiment',\n",
    "                                'Median.Neu.Sentiment',\n",
    "                                 'Album.Year',\n",
    "                                 'Album.Label',\n",
    "                               'Hi.Lo.Fi']\n",
    "                  )\n",
    "lyrics_df"
   ]
  },
  {
   "cell_type": "code",
   "execution_count": 41,
   "metadata": {},
   "outputs": [],
   "source": [
    "lyrics_np = lyrics_df.to_numpy()"
   ]
  },
  {
   "cell_type": "code",
   "execution_count": 59,
   "metadata": {},
   "outputs": [],
   "source": [
    "my_list = []\n",
    "for i in range(len(al_names)):\n",
    "    tmp = [neg_avg2[i],neg_med2[i],posi_avg2[i],posi_med2[i],neu_avg2[i],neu_med2[i],al_years[i]]\n",
    "    my_list.append(tmp)"
   ]
  },
  {
   "cell_type": "code",
   "execution_count": 60,
   "metadata": {},
   "outputs": [
    {
     "data": {
      "text/plain": [
       "array([[3.08386612e-02, 0.00000000e+00, 5.30274539e-02, 0.00000000e+00,\n",
       "        8.94321173e-01, 1.00000000e+00, 2.01500000e+03],\n",
       "       [4.61676378e-02, 0.00000000e+00, 5.24428507e-02, 0.00000000e+00,\n",
       "        8.68668758e-01, 1.00000000e+00, 2.01200000e+03],\n",
       "       [3.43364198e-02, 0.00000000e+00, 4.01234568e-02, 0.00000000e+00,\n",
       "        8.81944444e-01, 1.00000000e+00, 2.01100000e+03],\n",
       "       [3.15334773e-02, 0.00000000e+00, 3.23974082e-02, 0.00000000e+00,\n",
       "        8.73866091e-01, 1.00000000e+00, 2.00900000e+03],\n",
       "       [3.25077399e-02, 0.00000000e+00, 3.75386997e-02, 0.00000000e+00,\n",
       "        8.84287926e-01, 1.00000000e+00, 2.00800000e+03],\n",
       "       [3.93852065e-02, 0.00000000e+00, 5.61959654e-02, 0.00000000e+00,\n",
       "        8.69836695e-01, 1.00000000e+00, 2.00600000e+03],\n",
       "       [3.24737345e-02, 0.00000000e+00, 3.43839542e-02, 0.00000000e+00,\n",
       "        8.92550143e-01, 1.00000000e+00, 2.00500000e+03],\n",
       "       [2.33623454e-02, 0.00000000e+00, 4.48923500e-02, 0.00000000e+00,\n",
       "        8.90059551e-01, 1.00000000e+00, 2.00400000e+03],\n",
       "       [3.88137811e-02, 0.00000000e+00, 5.71303969e-02, 0.00000000e+00,\n",
       "        8.55647623e-01, 1.00000000e+00, 2.00200000e+03],\n",
       "       [3.04063654e-02, 0.00000000e+00, 4.57516340e-02, 0.00000000e+00,\n",
       "        8.61608411e-01, 1.00000000e+00, 2.00200000e+03],\n",
       "       [3.29067642e-02, 0.00000000e+00, 4.43327239e-02, 0.00000000e+00,\n",
       "        8.73857404e-01, 1.00000000e+00, 2.00000000e+03],\n",
       "       [2.02553941e-02, 0.00000000e+00, 3.21444298e-02, 0.00000000e+00,\n",
       "        8.99603699e-01, 1.00000000e+00, 1.99700000e+03],\n",
       "       [2.42018538e-02, 0.00000000e+00, 2.88362513e-02, 0.00000000e+00,\n",
       "        8.84654995e-01, 1.00000000e+00, 1.99600000e+03],\n",
       "       [2.63435195e-02, 0.00000000e+00, 4.16227608e-02, 0.00000000e+00,\n",
       "        8.61959958e-01, 1.00000000e+00, 1.99500000e+03],\n",
       "       [2.44005048e-02, 0.00000000e+00, 3.44972655e-02, 0.00000000e+00,\n",
       "        8.82204459e-01, 1.00000000e+00, 1.99400000e+03]])"
      ]
     },
     "execution_count": 60,
     "metadata": {},
     "output_type": "execute_result"
    }
   ],
   "source": [
    "lyrics_np = np.array(my_list)\n",
    "lyrics_np"
   ]
  },
  {
   "cell_type": "code",
   "execution_count": 61,
   "metadata": {},
   "outputs": [
    {
     "data": {
      "text/plain": [
       "array([[3.08386612e-02, 5.30274539e-02, 2.01500000e+03],\n",
       "       [4.61676378e-02, 5.24428507e-02, 2.01200000e+03],\n",
       "       [3.43364198e-02, 4.01234568e-02, 2.01100000e+03],\n",
       "       [3.15334773e-02, 3.23974082e-02, 2.00900000e+03],\n",
       "       [3.25077399e-02, 3.75386997e-02, 2.00800000e+03],\n",
       "       [3.93852065e-02, 5.61959654e-02, 2.00600000e+03],\n",
       "       [3.24737345e-02, 3.43839542e-02, 2.00500000e+03],\n",
       "       [2.33623454e-02, 4.48923500e-02, 2.00400000e+03],\n",
       "       [3.88137811e-02, 5.71303969e-02, 2.00200000e+03],\n",
       "       [3.04063654e-02, 4.57516340e-02, 2.00200000e+03],\n",
       "       [3.29067642e-02, 4.43327239e-02, 2.00000000e+03],\n",
       "       [2.02553941e-02, 3.21444298e-02, 1.99700000e+03],\n",
       "       [2.42018538e-02, 2.88362513e-02, 1.99600000e+03],\n",
       "       [2.63435195e-02, 4.16227608e-02, 1.99500000e+03],\n",
       "       [2.44005048e-02, 3.44972655e-02, 1.99400000e+03]])"
      ]
     },
     "execution_count": 61,
     "metadata": {},
     "output_type": "execute_result"
    }
   ],
   "source": [
    "x2,y2 = lyrics_np, fi_binary\n",
    "k_best2 = SelectKBest(chi2, k=3).fit_transform(x2,y2)\n",
    "k_best2"
   ]
  },
  {
   "cell_type": "code",
   "execution_count": 45,
   "metadata": {},
   "outputs": [
    {
     "name": "stdout",
     "output_type": "stream",
     "text": [
      "Accuracy: 0.83 (+/- 0.42)\n"
     ]
    }
   ],
   "source": [
    "newthree = cross_val_score(clf_pipe,lyrics_np,fi_binary,cv=5)\n",
    "print(\"Accuracy: %0.2f (+/- %0.2f)\" % (newthree.mean(), newthree.std() * 2))"
   ]
  },
  {
   "cell_type": "code",
   "execution_count": 46,
   "metadata": {},
   "outputs": [
    {
     "name": "stdout",
     "output_type": "stream",
     "text": [
      "Accuracy: 0.83 (+/- 0.42)\n"
     ]
    }
   ],
   "source": [
    "newfour = cross_val_score(clf_pipe,k_best2,fi_binary,cv=5)\n",
    "print(\"Accuracy: %0.2f (+/- %0.2f)\" % (newfour.mean(), newfour.std() * 2))"
   ]
  },
  {
   "cell_type": "code",
   "execution_count": 62,
   "metadata": {},
   "outputs": [
    {
     "name": "stdout",
     "output_type": "stream",
     "text": [
      "Accuracy: 0.80 (+/- 0.49)\n"
     ]
    }
   ],
   "source": [
    "b = cross_val_score(clf, lyrics_np, fi_binary, cv=5)\n",
    "print(\"Accuracy: %0.2f (+/- %0.2f)\" % (b.mean(), b.std() * 2))"
   ]
  },
  {
   "cell_type": "code",
   "execution_count": 48,
   "metadata": {},
   "outputs": [
    {
     "data": {
      "text/plain": [
       "array([0.5, 1. , 1. , 1. , 0.5])"
      ]
     },
     "execution_count": 48,
     "metadata": {},
     "output_type": "execute_result"
    }
   ],
   "source": [
    "cross_val_score(clf, k_best2, fi_binary, cv=5)"
   ]
  },
  {
   "cell_type": "code",
   "execution_count": 65,
   "metadata": {},
   "outputs": [],
   "source": [
    "from sklearn.cluster import KMeans"
   ]
  },
  {
   "cell_type": "code",
   "execution_count": 71,
   "metadata": {},
   "outputs": [],
   "source": [
    "import matplotlib.pyplot as plt"
   ]
  },
  {
   "cell_type": "code",
   "execution_count": 105,
   "metadata": {},
   "outputs": [],
   "source": [
    "estimators = [\n",
    "    ('2 clusters',KMeans(n_clusters=2)),\n",
    "    ('3 clusters',KMeans(n_clusters=3)),\n",
    "    ('4 clusters',KMeans(n_clusters=4)),\n",
    "    ('8 clusters',KMeans(n_clusters=8))\n",
    "    ]"
   ]
  },
  {
   "cell_type": "code",
   "execution_count": 106,
   "metadata": {},
   "outputs": [],
   "source": [
    "predict_dict = {}\n",
    "i = 0\n",
    "for c,e in estimators:\n",
    "    predict_dict[c] = e.fit_predict(lyrics_np)\n",
    "    i += 1"
   ]
  },
  {
   "cell_type": "code",
   "execution_count": 107,
   "metadata": {},
   "outputs": [
    {
     "data": {
      "text/plain": [
       "{'2 clusters': array([0, 0, 0, 0, 0, 0, 0, 0, 1, 1, 1, 1, 1, 1, 1], dtype=int32),\n",
       " '3 clusters': array([1, 1, 1, 1, 1, 0, 0, 0, 0, 0, 0, 2, 2, 2, 2], dtype=int32),\n",
       " '4 clusters': array([1, 1, 1, 3, 3, 3, 3, 0, 0, 0, 0, 2, 2, 2, 2], dtype=int32),\n",
       " '8 clusters': array([6, 0, 0, 3, 3, 2, 2, 2, 4, 4, 7, 1, 1, 5, 5], dtype=int32)}"
      ]
     },
     "execution_count": 107,
     "metadata": {},
     "output_type": "execute_result"
    }
   ],
   "source": [
    "predict_dict"
   ]
  },
  {
   "cell_type": "code",
   "execution_count": 108,
   "metadata": {},
   "outputs": [],
   "source": [
    "predict_dict['Target'] = fi_binary"
   ]
  },
  {
   "cell_type": "code",
   "execution_count": 111,
   "metadata": {},
   "outputs": [
    {
     "data": {
      "text/html": [
       "<div>\n",
       "<style scoped>\n",
       "    .dataframe tbody tr th:only-of-type {\n",
       "        vertical-align: middle;\n",
       "    }\n",
       "\n",
       "    .dataframe tbody tr th {\n",
       "        vertical-align: top;\n",
       "    }\n",
       "\n",
       "    .dataframe thead th {\n",
       "        text-align: right;\n",
       "    }\n",
       "</style>\n",
       "<table border=\"1\" class=\"dataframe\">\n",
       "  <thead>\n",
       "    <tr style=\"text-align: right;\">\n",
       "      <th></th>\n",
       "      <th>2 clusters</th>\n",
       "      <th>3 clusters</th>\n",
       "      <th>4 clusters</th>\n",
       "      <th>8 clusters</th>\n",
       "      <th>Target</th>\n",
       "    </tr>\n",
       "  </thead>\n",
       "  <tbody>\n",
       "    <tr>\n",
       "      <th>All Eternals Deck</th>\n",
       "      <td>0</td>\n",
       "      <td>1</td>\n",
       "      <td>1</td>\n",
       "      <td>6</td>\n",
       "      <td>1</td>\n",
       "    </tr>\n",
       "    <tr>\n",
       "      <th>Beat the Champ</th>\n",
       "      <td>0</td>\n",
       "      <td>1</td>\n",
       "      <td>1</td>\n",
       "      <td>0</td>\n",
       "      <td>1</td>\n",
       "    </tr>\n",
       "    <tr>\n",
       "      <th>Heretic Pride</th>\n",
       "      <td>0</td>\n",
       "      <td>1</td>\n",
       "      <td>1</td>\n",
       "      <td>0</td>\n",
       "      <td>1</td>\n",
       "    </tr>\n",
       "    <tr>\n",
       "      <th>Get Lonely</th>\n",
       "      <td>0</td>\n",
       "      <td>1</td>\n",
       "      <td>3</td>\n",
       "      <td>3</td>\n",
       "      <td>1</td>\n",
       "    </tr>\n",
       "    <tr>\n",
       "      <th>The Life of the World to Come</th>\n",
       "      <td>0</td>\n",
       "      <td>1</td>\n",
       "      <td>3</td>\n",
       "      <td>3</td>\n",
       "      <td>1</td>\n",
       "    </tr>\n",
       "    <tr>\n",
       "      <th>Transcendental Youth</th>\n",
       "      <td>0</td>\n",
       "      <td>0</td>\n",
       "      <td>3</td>\n",
       "      <td>2</td>\n",
       "      <td>1</td>\n",
       "    </tr>\n",
       "    <tr>\n",
       "      <th>The Sunset Tree</th>\n",
       "      <td>0</td>\n",
       "      <td>0</td>\n",
       "      <td>3</td>\n",
       "      <td>2</td>\n",
       "      <td>1</td>\n",
       "    </tr>\n",
       "    <tr>\n",
       "      <th>We Shall All Be Healed</th>\n",
       "      <td>0</td>\n",
       "      <td>0</td>\n",
       "      <td>0</td>\n",
       "      <td>2</td>\n",
       "      <td>1</td>\n",
       "    </tr>\n",
       "    <tr>\n",
       "      <th>Tallahassee</th>\n",
       "      <td>1</td>\n",
       "      <td>0</td>\n",
       "      <td>0</td>\n",
       "      <td>4</td>\n",
       "      <td>1</td>\n",
       "    </tr>\n",
       "    <tr>\n",
       "      <th>All Hail West Texas</th>\n",
       "      <td>1</td>\n",
       "      <td>0</td>\n",
       "      <td>0</td>\n",
       "      <td>4</td>\n",
       "      <td>0</td>\n",
       "    </tr>\n",
       "    <tr>\n",
       "      <th>The Coroner's Gambit</th>\n",
       "      <td>1</td>\n",
       "      <td>0</td>\n",
       "      <td>0</td>\n",
       "      <td>7</td>\n",
       "      <td>0</td>\n",
       "    </tr>\n",
       "    <tr>\n",
       "      <th>Full Force Galesburg</th>\n",
       "      <td>1</td>\n",
       "      <td>2</td>\n",
       "      <td>2</td>\n",
       "      <td>1</td>\n",
       "      <td>0</td>\n",
       "    </tr>\n",
       "    <tr>\n",
       "      <th>Nothing for Juice</th>\n",
       "      <td>1</td>\n",
       "      <td>2</td>\n",
       "      <td>2</td>\n",
       "      <td>1</td>\n",
       "      <td>0</td>\n",
       "    </tr>\n",
       "    <tr>\n",
       "      <th>Sweden</th>\n",
       "      <td>1</td>\n",
       "      <td>2</td>\n",
       "      <td>2</td>\n",
       "      <td>5</td>\n",
       "      <td>0</td>\n",
       "    </tr>\n",
       "    <tr>\n",
       "      <th>Zopilote Machine</th>\n",
       "      <td>1</td>\n",
       "      <td>2</td>\n",
       "      <td>2</td>\n",
       "      <td>5</td>\n",
       "      <td>0</td>\n",
       "    </tr>\n",
       "  </tbody>\n",
       "</table>\n",
       "</div>"
      ],
      "text/plain": [
       "                               2 clusters  3 clusters  4 clusters  8 clusters  \\\n",
       "All Eternals Deck                       0           1           1           6   \n",
       "Beat the Champ                          0           1           1           0   \n",
       "Heretic Pride                           0           1           1           0   \n",
       "Get Lonely                              0           1           3           3   \n",
       "The Life of the World to Come           0           1           3           3   \n",
       "Transcendental Youth                    0           0           3           2   \n",
       "The Sunset Tree                         0           0           3           2   \n",
       "We Shall All Be Healed                  0           0           0           2   \n",
       "Tallahassee                             1           0           0           4   \n",
       "All Hail West Texas                     1           0           0           4   \n",
       "The Coroner's Gambit                    1           0           0           7   \n",
       "Full Force Galesburg                    1           2           2           1   \n",
       "Nothing for Juice                       1           2           2           1   \n",
       "Sweden                                  1           2           2           5   \n",
       "Zopilote Machine                        1           2           2           5   \n",
       "\n",
       "                               Target  \n",
       "All Eternals Deck                   1  \n",
       "Beat the Champ                      1  \n",
       "Heretic Pride                       1  \n",
       "Get Lonely                          1  \n",
       "The Life of the World to Come       1  \n",
       "Transcendental Youth                1  \n",
       "The Sunset Tree                     1  \n",
       "We Shall All Be Healed              1  \n",
       "Tallahassee                         1  \n",
       "All Hail West Texas                 0  \n",
       "The Coroner's Gambit                0  \n",
       "Full Force Galesburg                0  \n",
       "Nothing for Juice                   0  \n",
       "Sweden                              0  \n",
       "Zopilote Machine                    0  "
      ]
     },
     "execution_count": 111,
     "metadata": {},
     "output_type": "execute_result"
    }
   ],
   "source": [
    "cluster_df = pd.DataFrame(predict_dict,index=al_names)\n",
    "cluster_df"
   ]
  },
  {
   "cell_type": "code",
   "execution_count": 112,
   "metadata": {},
   "outputs": [],
   "source": [
    "cluster_np = cluster_df.to_numpy()"
   ]
  },
  {
   "cell_type": "code",
   "execution_count": 125,
   "metadata": {},
   "outputs": [
    {
     "ename": "TypeError",
     "evalue": "scatter() missing 1 required positional argument: 'y'",
     "output_type": "error",
     "traceback": [
      "\u001b[0;31m---------------------------------------------------------------------------\u001b[0m",
      "\u001b[0;31mTypeError\u001b[0m                                 Traceback (most recent call last)",
      "\u001b[0;32m<ipython-input-125-21ed1916d49c>\u001b[0m in \u001b[0;36m<module>\u001b[0;34m\u001b[0m\n\u001b[0;32m----> 1\u001b[0;31m \u001b[0mplt\u001b[0m\u001b[0;34m.\u001b[0m\u001b[0mscatter\u001b[0m\u001b[0;34m(\u001b[0m\u001b[0mindiv_list_big\u001b[0m\u001b[0;34m)\u001b[0m\u001b[0;34m\u001b[0m\u001b[0;34m\u001b[0m\u001b[0m\n\u001b[0m",
      "\u001b[0;31mTypeError\u001b[0m: scatter() missing 1 required positional argument: 'y'"
     ]
    }
   ],
   "source": [
    "plt.scatter(indiv_list_big)"
   ]
  },
  {
   "cell_type": "code",
   "execution_count": 78,
   "metadata": {},
   "outputs": [
    {
     "data": {
      "text/plain": [
       "array([1, 1, 1, 1, 1, 1, 1, 0, 0, 0, 0, 0, 0, 0, 0], dtype=int32)"
      ]
     },
     "execution_count": 78,
     "metadata": {},
     "output_type": "execute_result"
    }
   ],
   "source": [
    "first = estimators[0].fit(lyrics_np)\n",
    "first.labels_"
   ]
  },
  {
   "cell_type": "code",
   "execution_count": 80,
   "metadata": {},
   "outputs": [
    {
     "data": {
      "text/plain": [
       "array([0, 0, 0, 0, 0, 0, 0, 0, 1, 1, 1, 1, 1, 1, 1], dtype=int32)"
      ]
     },
     "execution_count": 80,
     "metadata": {},
     "output_type": "execute_result"
    }
   ],
   "source": [
    "estimators[0].fit_predict(lyrics_np)"
   ]
  },
  {
   "cell_type": "code",
   "execution_count": null,
   "metadata": {},
   "outputs": [],
   "source": [
    "estimators[1].fit_r"
   ]
  }
 ],
 "metadata": {
  "kernelspec": {
   "display_name": "Python 3",
   "language": "python",
   "name": "python3"
  },
  "language_info": {
   "codemirror_mode": {
    "name": "ipython",
    "version": 3
   },
   "file_extension": ".py",
   "mimetype": "text/x-python",
   "name": "python",
   "nbconvert_exporter": "python",
   "pygments_lexer": "ipython3",
   "version": "3.7.3"
  }
 },
 "nbformat": 4,
 "nbformat_minor": 2
}
